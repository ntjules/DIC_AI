{
 "cells": [
  {
   "cell_type": "markdown",
   "metadata": {},
   "source": [
    "<h4>Created using exponentiation arithmetic operators"
   ]
  },
  {
   "cell_type": "code",
   "execution_count": null,
   "metadata": {
    "tags": []
   },
   "outputs": [],
   "source": [
    "#%%timeit\n",
    "import time\n",
    "start_time = time.time()\n",
    "THICKNESS = 0.00008\n",
    "folded_thickness = THICKNESS * 2**43\n",
    "print( \" Thickness: {:.2f} kilometers \" .format(folded_thickness/ 1000 ))\n",
    "print(\"Process finished --- %s seconds ---\" % (time.time() - start_time))\n",
    "\n"
   ]
  },
  {
   "cell_type": "markdown",
   "metadata": {},
   "source": [
    "<h4>Created using a for statement"
   ]
  },
  {
   "cell_type": "code",
   "execution_count": null,
   "metadata": {
    "tags": []
   },
   "outputs": [],
   "source": [
    "# %%timeit\n",
    "import time\n",
    "start_time2 = time.time()\n",
    "thickness2 = 0.00008\n",
    "for i in range(43):\n",
    " thickness2 *= 2\n",
    "\n",
    "print( \" Thickness: {:.2f} kilometers \" .format(thickness2/ 1000 ))\n",
    "print(\"Process finished --- %s seconds ---\" % (time.time() - start_time2))\n"
   ]
  },
  {
   "cell_type": "markdown",
   "metadata": {},
   "source": [
    "<h4>Save to List</h4>"
   ]
  },
  {
   "cell_type": "code",
   "execution_count": null,
   "metadata": {
    "tags": []
   },
   "outputs": [],
   "source": [
    "thickness = 0.00008\n",
    "all_thickness = []\n",
    "all_thickness.append(thickness)\n",
    "for i in range(43):\n",
    "    thickness *= 2\n",
    "    all_thickness.append(thickness)\n",
    "print(all_thickness)\n",
    "print(\"\\n array length: \", len(all_thickness))\n"
   ]
  },
  {
   "cell_type": "code",
   "execution_count": null,
   "metadata": {},
   "outputs": [],
   "source": []
  }
 ],
 "metadata": {
  "language_info": {
   "codemirror_mode": {
    "name": "ipython",
    "version": 3
   },
   "file_extension": ".py",
   "mimetype": "text/x-python",
   "name": "python",
   "nbconvert_exporter": "python",
   "pygments_lexer": "ipython3",
   "version": "3.7.7-final"
  },
  "orig_nbformat": 2,
  "kernelspec": {
   "name": "python37764bit4f0f5160c47648ca84e868d4629ea525",
   "display_name": "Python 3.7.7 64-bit"
  }
 },
 "nbformat": 4,
 "nbformat_minor": 2
}