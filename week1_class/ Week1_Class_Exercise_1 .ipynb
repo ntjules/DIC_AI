{
 "metadata": {
  "language_info": {
   "codemirror_mode": {
    "name": "ipython",
    "version": 3
   },
   "file_extension": ".py",
   "mimetype": "text/x-python",
   "name": "python",
   "nbconvert_exporter": "python",
   "pygments_lexer": "ipython3",
   "version": "3.7.7-final"
  },
  "orig_nbformat": 2,
  "kernelspec": {
   "name": "python37764bit4f0f5160c47648ca84e868d4629ea525",
   "display_name": "Python 3.7.7 64-bit",
   "language": "python"
  }
 },
 "nbformat": 4,
 "nbformat_minor": 2,
 "cells": [
  {
   "source": [
    "<h4> [Problem 1] Number of rice grains on the 100th day </h4>\n"
   ],
   "cell_type": "markdown",
   "metadata": {}
  },
  {
   "source": [
    "day = 100\n",
    "grain = 1\n",
    "for i in range(1,day):\n",
    "    grain += grain\n",
    "print (grain)"
   ],
   "cell_type": "code",
   "metadata": {},
   "execution_count": 1,
   "outputs": [
    {
     "output_type": "stream",
     "name": "stdout",
     "text": [
      "633825300114114700748351602688\n"
     ]
    }
   ]
  },
  {
   "source": [
    "<h4> [Problem 2] Number of rice grains other than day 100 </h4>"
   ],
   "cell_type": "markdown",
   "metadata": {}
  },
  {
   "cell_type": "code",
   "execution_count": 2,
   "metadata": {},
   "outputs": [
    {
     "output_type": "stream",
     "name": "stdout",
     "text": [
      "list of grains every day:  [1, 2, 4, 8, 16, 32, 64, 128, 256, 512, 1024]\nlist of total grains every day:  [1, 3, 7, 15, 31, 63, 127, 255, 511, 1023, 2047]\n"
     ]
    }
   ],
   "source": [
    "def compute_sorori_shinzaemon(day = 100):\n",
    "    list_n_grains, list_total_grains = [1],[1]\n",
    "    for i in range(day):\n",
    "        list_n_grains.append(list_n_grains[-1]*2)\n",
    "        list_total_grains.append(sum(list_n_grains))\n",
    "    return list_n_grains, list_total_grains\n",
    "    \n",
    "list_n_grains, list_total_grains = compute_sorori_shinzaemon(10)\n",
    "print(\"list of grains every day: \",list_n_grains)\n",
    "print(\"list of total grains every day: \",list_total_grains)"
   ]
  },
  {
   "source": [
    "<h4> [Problem 3] How many people can live for how many days with the rice they receive</h4>\n",
    "\n",
    "\n",
    "<h6>(United Nations' World Food Program stated that it takes 400 grams or about 19,200 grains of rice to feed one adult for a day.) </h6>"
   ],
   "cell_type": "markdown",
   "metadata": {}
  },
  {
   "cell_type": "code",
   "execution_count": 3,
   "metadata": {},
   "outputs": [
    {
     "output_type": "stream",
     "name": "stdout",
     "text": [
      "10.0 Days\n"
     ]
    }
   ],
   "source": [
    "def survive_days(grains,people):\n",
    "    grains_per_day = 19200 \n",
    "    days = (grains/people)/grains_per_day\n",
    "    return days\n",
    "print(survive_days(1920000,10),\"Days\")"
   ]
  }
 ]
}