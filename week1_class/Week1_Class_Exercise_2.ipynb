{
 "metadata": {
  "language_info": {
   "codemirror_mode": {
    "name": "ipython",
    "version": 3
   },
   "file_extension": ".py",
   "mimetype": "text/x-python",
   "name": "python",
   "nbconvert_exporter": "python",
   "pygments_lexer": "ipython3",
   "version": "3.7.7-final"
  },
  "orig_nbformat": 2,
  "kernelspec": {
   "name": "python37764bit4f0f5160c47648ca84e868d4629ea525",
   "display_name": "Python 3.7.7 64-bit",
   "language": "python"
  }
 },
 "nbformat": 4,
 "nbformat_minor": 2,
 "cells": [
  {
   "source": [
    "<h4>[Problem 1] Minimum number of folds over Mt. Fuji</h4>"
   ],
   "cell_type": "markdown",
   "metadata": {}
  },
  {
   "cell_type": "code",
   "execution_count": 57,
   "metadata": {},
   "outputs": [
    {
     "output_type": "stream",
     "name": "stdout",
     "text": [
      "25.49228352379865\n"
     ]
    }
   ],
   "source": [
    "import math\n",
    "thickness = 0.00008\n",
    "folded_thickness = 3776\n",
    "# folded_thickness = thickness * 2**43\n",
    "# 2**folds = folded_thickness/thickness \n",
    "folds = math.log2(folded_thickness/thickness)\n",
    "print (folds)"
   ]
  },
  {
   "source": [
    "<h4>[Problem 2] Create a function corresponding to an arbitrary thickness</h4>"
   ],
   "cell_type": "markdown",
   "metadata": {}
  },
  {
   "cell_type": "code",
   "execution_count": 58,
   "metadata": {},
   "outputs": [
    {
     "output_type": "stream",
     "name": "stdout",
     "text": [
      "68.76797256896582\n"
     ]
    }
   ],
   "source": [
    "def folds(folded_thickness):\n",
    "    thickness = 0.00008\n",
    "    # folded_thickness = 3776\n",
    "# folded_thickness = thickness * 2**43\n",
    "# 2**folds = folded_thickness/thickness \n",
    "    folds = math.log2(folded_thickness/thickness)\n",
    "    return folds\n",
    "# closest star = 40208000000000 KM\n",
    "print (folds(40208000000000000))\n",
    "\n",
    " "
   ]
  },
  {
   "source": [
    "<h4>[Problem 3] Required paper length</h4>"
   ],
   "cell_type": "markdown",
   "metadata": {}
  },
  {
   "cell_type": "code",
   "execution_count": 59,
   "metadata": {},
   "outputs": [
    {
     "output_type": "stream",
     "name": "stdout",
     "text": [
      "Needed length to reach the Moon 34815921468452376674304.000 m\nNeeded length to reach the Mountain Fuji 3359503786667.028 m\nNeeded length to reach the closest star 380922019902298503130428052654100840448.000 m\n"
     ]
    }
   ],
   "source": [
    "# \\[L = \\frac{\\pi t_{0}}{6}(2^n + 4)(2^n - 1)\\]\n",
    "# l = math.pi * thickness * 6 *(2**n +4)*(2**n -1)\n",
    "n_moom = 384400000\n",
    "n_MtFuji = 3776\n",
    "n_Cstar = 40208000000000000\n",
    "l_moom = math.pi * thickness * 6 *(2**folds(n_moom) +4)*(2**folds(n_moom) -1)\n",
    "l_MtFuji = math.pi * thickness * 6 *(2**folds(n_MtFuji) +4)*(2**folds(n_MtFuji) -1)\n",
    "l_Cstar = math.pi * thickness * 6 *(2**folds(n_Cstar) +4)*(2**folds(n_Cstar) -1)\n",
    "print(\"Needed length to reach the Moon {:.3f} m\" .format(l_moom))\n",
    "print(\"Needed length to reach the Mountain Fuji {:.3f} m\" .format(l_MtFuji))\n",
    "print(\"Needed length to reach the closest star {:.3f} m\" .format(l_Cstar))"
   ]
  }
 ]
}