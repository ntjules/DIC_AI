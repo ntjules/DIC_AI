{
 "metadata": {
  "language_info": {
   "codemirror_mode": {
    "name": "ipython",
    "version": 3
   },
   "file_extension": ".py",
   "mimetype": "text/x-python",
   "name": "python",
   "nbconvert_exporter": "python",
   "pygments_lexer": "ipython3",
   "version": "3.7.7-final"
  },
  "orig_nbformat": 2,
  "kernelspec": {
   "name": "python37764bit4f0f5160c47648ca84e868d4629ea525",
   "display_name": "Python 3.7.7 64-bit",
   "language": "python"
  }
 },
 "nbformat": 4,
 "nbformat_minor": 2,
 "cells": [
  {
   "source": [
    "<h4>[Problem 1] Minimum number of folds over Mt. Fuji</h4>"
   ],
   "cell_type": "markdown",
   "metadata": {}
  },
  {
   "cell_type": "code",
   "execution_count": 1,
   "metadata": {},
   "outputs": [
    {
     "output_type": "stream",
     "name": "stdout",
     "text": [
      "43.0\n"
     ]
    }
   ],
   "source": [
    "import math\n",
    "thickness = 0.00008\n",
    "folded_thickness = 3776000\n",
    "folded_thickness = thickness * 2**43\n",
    "# 2**folds = folded_thickness/thickness \n",
    "folds = math.log2(folded_thickness/thickness)\n",
    "print (folds)"
   ]
  },
  {
   "source": [
    "<h4>[Problem 2] Create a function corresponding to an arbitrary thickness</h4>"
   ],
   "cell_type": "markdown",
   "metadata": {}
  },
  {
   "source": [
    "<h4>[Problem 3] Required paper length</h4>"
   ],
   "cell_type": "markdown",
   "metadata": {}
  }
 ]
}