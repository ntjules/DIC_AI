{
 "metadata": {
  "language_info": {
   "codemirror_mode": {
    "name": "ipython",
    "version": 3
   },
   "file_extension": ".py",
   "mimetype": "text/x-python",
   "name": "python",
   "nbconvert_exporter": "python",
   "pygments_lexer": "ipython3",
   "version": 3
  },
  "orig_nbformat": 2
 },
 "nbformat": 4,
 "nbformat_minor": 2,
 "cells": [
  {
   "source": [
    "### [Problem 1] Acquisition of data set"
   ],
   "cell_type": "markdown",
   "metadata": {}
  },
  {
   "source": [
    "### [Problem 2] Investigation of the data set itself"
   ],
   "cell_type": "markdown",
   "metadata": {}
  },
  {
   "source": [
    "### [Problem 3] Confirmation of data"
   ],
   "cell_type": "markdown",
   "metadata": {}
  },
  {
   "source": [
    "### [Problem 4] Dealing with missing values"
   ],
   "cell_type": "markdown",
   "metadata": {}
  },
  {
   "source": [
    "### [Problem 5] Terminology survey"
   ],
   "cell_type": "markdown",
   "metadata": {}
  },
  {
   "source": [
    "### [Problem 6] Confirmation of distribution"
   ],
   "cell_type": "markdown",
   "metadata": {}
  },
  {
   "source": [
    "### [Problem 7] Confirmation of correlation coefficient"
   ],
   "cell_type": "markdown",
   "metadata": {}
  }
 ]
}