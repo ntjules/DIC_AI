{
 "metadata": {
  "language_info": {
   "codemirror_mode": {
    "name": "ipython",
    "version": 3
   },
   "file_extension": ".py",
   "mimetype": "text/x-python",
   "name": "python",
   "nbconvert_exporter": "python",
   "pygments_lexer": "ipython3",
   "version": "3.7.7-final"
  },
  "orig_nbformat": 2,
  "kernelspec": {
   "name": "python37764bit4f0f5160c47648ca84e868d4629ea525",
   "display_name": "Python 3.7.7 64-bit",
   "language": "python"
  }
 },
 "nbformat": 4,
 "nbformat_minor": 2,
 "cells": [
  {
   "source": [
    "<h4> [Problem 1] Manually calculate the matrix product</h4>"
   ],
   "cell_type": "markdown",
   "metadata": {}
  },
  {
   "source": [
    "A \n",
    "\n",
    "⎡−1  2  3⎤\n",
    "\n",
    "⎢ 4 -5  6⎥\n",
    "\n",
    "⎣ 7  8 -9⎦\n",
    "\n",
    "\n",
    "B\n",
    "\n",
    "⎡ 0  2  1⎤\n",
    "\n",
    "⎢ 0  2 -8⎥\n",
    "\n",
    "⎣ 2  9 -1⎦\n",
    "\n",
    "AB ( multiply A row with B colomn)\n",
    "\n",
    "⎡−1x0 + 2x0 + 3x2   −1x2 + 2x2 + 3x9  −1x1 + 2x-8 + 3x-1⎤\n",
    "\n",
    "⎢ 4x0 + -5x0 + 6x2  4x2 + -5x2 + 6x9  4x1 + -5x-8 + 6x-1⎥\n",
    "\n",
    "⎣ 7x0 + 8x0 + -9x2  7x2 + 8x2 + -9x9  7x1 + 8x-8 + -9x-1⎦\n",
    "\n",
    "\n",
    "AB final result\n",
    "\n",
    "⎡  6   29  -20⎤\n",
    "\n",
    "⎢  12  52   38⎥\n",
    "\n",
    "⎣ -18 -51  -48⎦"
   ],
   "cell_type": "markdown",
   "metadata": {}
  },
  {
   "source": [
    "<h4>[Problem 2] Calculation by NumPy function</h4>"
   ],
   "cell_type": "markdown",
   "metadata": {}
  },
  {
   "cell_type": "code",
   "execution_count": 45,
   "metadata": {},
   "outputs": [
    {
     "output_type": "stream",
     "name": "stdout",
     "text": [
      "[[  6  29 -20]\n [ 12  52  38]\n [-18 -51 -48]]\n"
     ]
    }
   ],
   "source": [
    "import numpy as np\n",
    "a_ndarray = np.array([[-1, 2, 3], [4, -5, 6], [7, 8, -9]])\n",
    "b_ndarray = np.array([[0, 2, 1], [0, 2, -8], [2, 9, -1]])\n",
    "print(np.dot(a_ndarray,b_ndarray))"
   ]
  },
  {
   "source": [
    "<h4>[Problem 3] Implement the calculation of a certain element</h4>"
   ],
   "cell_type": "markdown",
   "metadata": {}
  },
  {
   "cell_type": "code",
   "execution_count": 10,
   "metadata": {},
   "outputs": [
    {
     "output_type": "stream",
     "name": "stdout",
     "text": [
      "the value of 0th row and 0th column 6 \n\n[[  6  29 -20]\n [ 12  52  38]\n [-18 -51 -48]]\n"
     ]
    }
   ],
   "source": [
    "import numpy as np\n",
    "a_ndarray = np.array([[-1, 2, 3], [4, -5, 6], [7, 8, -9]])\n",
    "b_ndarray = np.array([[0, 2, 1], [0, 2, -8], [2, 9, -1]])\n",
    "# sum(a[0, 1, :] * b[0 , :, 1])\n",
    "# print(a_ndarray[0,0]*b_ndarray[0,0])\n",
    "# print (np.zeros((3,len(a_ndarray[0]))))\n",
    "# result = [[0,0,0],\n",
    "#          [0,0,0],\n",
    "#          [0,0,0]]\n",
    "result = np.zeros((3,3), dtype=int)\n",
    "# iterate through rows of a_ndarray\n",
    "for i in range(len(a_ndarray)):\n",
    "   # iterate through columns of b_ndarray\n",
    "   for j in range(len(b_ndarray[0])):\n",
    "       # iterate through rows of b_ndarray\n",
    "       for k in range(len(b_ndarray)):\n",
    "           result[i][j] += a_ndarray[i][k] * b_ndarray[k][j]\n",
    "print(\"the value of 0th row and 0th column\", result[0][0], \"\\n\")\n",
    "print(result)"
   ]
  },
  {
   "source": [
    "<h4> [Problem 4] Creation of a function that performs matrix multiplication</h4>"
   ],
   "cell_type": "markdown",
   "metadata": {}
  },
  {
   "cell_type": "code",
   "execution_count": 11,
   "metadata": {},
   "outputs": [],
   "source": [
    "import numpy as np\n",
    "a_ndarray = np.array([[-1, 2, 3], [4, -5, 6], [7, 8, -9]])\n",
    "b_ndarray = np.array([[0, 2, 1], [0, 2, -8], [2, 9, -1]])\n",
    "# sum(a[0, 1, :] * b[0 , :, 1])\n",
    "# print(a_ndarray[0,0]*b_ndarray[0,0])\n",
    "# print (np.zeros((3,len(a_ndarray[0]))))\n",
    "# result = [[0,0,0],\n",
    "#          [0,0,0],\n",
    "#          [0,0,0]]\n",
    "def product(a,b):   \n",
    "    result = np.zeros((3,len(b[0])), dtype=int)\n",
    "    # iterate through rows of a_ndarray\n",
    "    for i in range(len(a_ndarray)):\n",
    "        # iterate through columns of b_ndarray\n",
    "        for j in range(len(b_ndarray[0])):\n",
    "            # iterate through rows of b_ndarray\n",
    "            for k in range(len(b_ndarray)):\n",
    "                result[i][j] += a_ndarray[i][k] * b_ndarray[k][j]\n",
    "    return result\n",
    "\n",
    "# print(product(a_ndarray,b_ndarray))"
   ]
  },
  {
   "source": [
    "<h4> [Problem 5] Judging the input for which the calculation is not defined </h4>"
   ],
   "cell_type": "markdown",
   "metadata": {}
  },
  {
   "cell_type": "code",
   "execution_count": 12,
   "metadata": {},
   "outputs": [
    {
     "output_type": "stream",
     "name": "stdout",
     "text": [
      "this matrix can not be multiplied\n"
     ]
    }
   ],
   "source": [
    "import numpy as np\n",
    "d_ndarray = np.array([[-1, 2, 3], [4, -5, 6]])\n",
    "e_ndarray = np.array([[-9, 8, 7], [6, -5, 4]])\n",
    "def product(a,b):   \n",
    "    if(len(a)== len(b[0])):\n",
    "        result = np.zeros((3,len(b[0])), dtype=int)\n",
    "        # iterate through rows of a_ndarray\n",
    "        for i in range(len(a_ndarray)):\n",
    "            # iterate through columns of b_ndarray\n",
    "            for j in range(len(b_ndarray[0])):\n",
    "                # iterate through rows of b_ndarray\n",
    "                for k in range(len(b_ndarray)):\n",
    "                    result[i][j] += a_ndarray[i][k] * b_ndarray[k][j]\n",
    "        return result\n",
    "    else:\n",
    "        return \"this matrix can not be multiplied\"\n",
    "print(product(d_ndarray, e_ndarray))"
   ]
  },
  {
   "source": [
    "<h4> [Problem 6] Transpose </h4>"
   ],
   "cell_type": "markdown",
   "metadata": {}
  },
  {
   "cell_type": "code",
   "execution_count": 13,
   "metadata": {},
   "outputs": [
    {
     "output_type": "stream",
     "name": "stdout",
     "text": [
      "[[ 33 -28   9]\n [-48  41  -6]\n [  9  -6  45]]\n"
     ]
    }
   ],
   "source": [
    "import numpy as np\n",
    "d_ndarray = np.array([[-1, 2, 3], [4, -5, 6]])\n",
    "e_ndarray = np.array([[-9, 8, 7], [6, -5, 4]])\n",
    "def product(a,b):   \n",
    "    if(len(a)== len(b[0])):\n",
    "        result = np.zeros((3,len(b[0])), dtype=int)\n",
    "        # iterate through rows of a_ndarray\n",
    "        for i in range(len(a)):\n",
    "            # iterate through columns of b_ndarray\n",
    "            for j in range(len(b[0])):\n",
    "                # iterate through rows of b_ndarray\n",
    "                for k in range(len(b)):\n",
    "                    result[i][j] += a[i][k] * b[k][j]\n",
    "        return result\n",
    "    else:\n",
    "        return \"this matrix can not be multiplied\"\n",
    "# print(product(d_ndarray, e_ndarray))\n",
    "print(product(np.transpose(d_ndarray), e_ndarray))\n"
   ]
  }
 ]
}