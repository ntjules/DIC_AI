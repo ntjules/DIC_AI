{
 "metadata": {
  "language_info": {
   "codemirror_mode": {
    "name": "ipython",
    "version": 3
   },
   "file_extension": ".py",
   "mimetype": "text/x-python",
   "name": "python",
   "nbconvert_exporter": "python",
   "pygments_lexer": "ipython3",
   "version": 3
  },
  "orig_nbformat": 2
 },
 "nbformat": 4,
 "nbformat_minor": 2,
 "cells": [
  {
   "source": [
    "### Introduction to Machine Learning Pre-class assignment 3 Utilization of Object Orientation"
   ],
   "cell_type": "markdown",
   "metadata": {}
  },
  {
   "source": [
    "#### [Problem 1] List of classes used so far"
   ],
   "cell_type": "markdown",
   "metadata": {}
  },
  {
   "source": [
    "#### [Problem 2] Enumeration of methods and instance variables that have been used so far"
   ],
   "cell_type": "markdown",
   "metadata": {}
  },
  {
   "source": [
    "#### [Problem 3] Create a standardized class by scratch"
   ],
   "cell_type": "markdown",
   "metadata": {}
  },
  {
   "source": [
    "#### [Problem 4] Creating a class that performs four arithmetic operations"
   ],
   "cell_type": "markdown",
   "metadata": {}
  }
 ]
}