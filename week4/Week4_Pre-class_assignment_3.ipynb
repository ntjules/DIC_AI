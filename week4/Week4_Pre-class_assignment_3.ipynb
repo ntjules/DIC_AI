{
 "metadata": {
  "language_info": {
   "codemirror_mode": {
    "name": "ipython",
    "version": 3
   },
   "file_extension": ".py",
   "mimetype": "text/x-python",
   "name": "python",
   "nbconvert_exporter": "python",
   "pygments_lexer": "ipython3",
   "version": "3.7.7"
  },
  "orig_nbformat": 2,
  "kernelspec": {
   "name": "python3",
   "display_name": "Python 3.7.7 64-bit ('3.7.7': pyenv)"
  },
  "interpreter": {
   "hash": "41e12572e2e093a11ec38850d8e6db066c93535a044bffd5ad3e8641c2dfa42f"
  }
 },
 "nbformat": 4,
 "nbformat_minor": 2,
 "cells": [
  {
   "source": [
    "### Introduction to Machine Learning Pre-class assignment 3 Utilization of Object Orientation"
   ],
   "cell_type": "markdown",
   "metadata": {}
  },
  {
   "source": [
    "#### [Problem 1] List of classes used so far"
   ],
   "cell_type": "markdown",
   "metadata": {}
  },
  {
   "source": [
    "### classes\n",
    "\n",
    "- pandas.read_excel()\n",
    "- pandas.Series()\n",
    "\n",
    "- matplotlib.plot()\n",
    "- matplotlib.subplots()\n",
    "\n",
    "- sklearn.tree\n",
    "- sklearn.svm\n",
    "\n",
    "\n",
    "\n",
    "\n",
    "\n"
   ],
   "cell_type": "markdown",
   "metadata": {}
  },
  {
   "source": [
    "#### [Problem 2] Enumeration of methods and instance variables that have been used so far"
   ],
   "cell_type": "markdown",
   "metadata": {}
  },
  {
   "source": [
    "### Methods\n",
    "\n",
    "- pandas.columns()\n",
    "- pandas.iloc()\n",
    "- numpy.itemsize()\n",
    "- numpy.reshape()\n",
    "- pandas.loc()\n",
    "\n",
    "---\n",
    "### instance variable\n",
    "- ndarrary.item\n",
    "- ndarrary.itemset\n",
    "- ndarrary.tolist\n",
    "- ndarrary.data\n",
    "- ndarrary.size"
   ],
   "cell_type": "markdown",
   "metadata": {}
  },
  {
   "source": [
    "#### [Problem 3] Create a standardized class by scratch"
   ],
   "cell_type": "markdown",
   "metadata": {}
  },
  {
   "cell_type": "code",
   "execution_count": 24,
   "metadata": {},
   "outputs": [],
   "source": [
    "class ScratchStandardScaler():\n",
    "   \n",
    "    def fit(self, X):\n",
    "        self.mean_ = np.mean(X, axis=0)\n",
    "        self.var_ = np.var(X, axis=0)\n",
    "    def transform(self, X):\n",
    "        X_scaled = (X-self.mean_)/self.var_\n",
    "        return X_scaled"
   ]
  },
  {
   "cell_type": "code",
   "execution_count": 25,
   "metadata": {},
   "outputs": [
    {
     "output_type": "stream",
     "name": "stdout",
     "text": [
      "mean : [4.86 3.31 1.45 0.22]\ndistributed : [0.0764 0.0849 0.0105 0.0056]\n[[  3.14136126   2.23792697  -4.76190476  -3.57142857]\n [  0.52356021  -3.65135453  -4.76190476  -3.57142857]\n [ -2.09424084  -1.29564193 -14.28571429  -3.57142857]\n [ -3.40314136  -2.47349823   4.76190476  -3.57142857]\n [  1.83246073   3.41578327  -4.76190476  -3.57142857]\n [  7.06806283   6.94935218  23.80952381  32.14285714]\n [ -3.40314136   1.06007067  -4.76190476  14.28571429]\n [  1.83246073   1.06007067   4.76190476  -3.57142857]\n [ -6.02094241  -4.82921084  -4.76190476  -3.57142857]\n [  0.52356021  -2.47349823   4.76190476 -21.42857143]]\n"
     ]
    }
   ],
   "source": [
    "from sklearn.datasets import load_iris\n",
    "data = load_iris()\n",
    "X = data.data[:10]\n",
    "sct_scaler = ScratchStandardScaler()\n",
    "sct_scaler.fit(X)\n",
    "print(\"mean :\", sct_scaler.mean_)\n",
    "print(\"distributed :\", sct_scaler.var_)\n",
    "X_std = sct_scaler.transform(X)\n",
    "print(X_std)"
   ]
  },
  {
   "source": [
    "#### [Problem 4] Creating a class that performs four arithmetic operations"
   ],
   "cell_type": "markdown",
   "metadata": {}
  },
  {
   "cell_type": "code",
   "execution_count": 26,
   "metadata": {},
   "outputs": [
    {
     "output_type": "stream",
     "name": "stdout",
     "text": [
      "Initial value 5 has been set\nvalue : 5\nAdditon value : 8\nSubtraction value : 5\nMultiplication value : 15\ndivision value : 5.0\nplease input numbers only\nplease input numbers only\nAdditon with wrong input :  can not be calculated because one of the value is not a number\n"
     ]
    }
   ],
   "source": [
    "def judge_type(value_to_judge):\n",
    "    if not isinstance(value_to_judge, (int,float)):\n",
    "        print(\"please input numbers only\")\n",
    "        return False\n",
    "    else:\n",
    "        return True\n",
    "\n",
    "class ArthClass():\n",
    "   \n",
    "    def __init__(self, value):\n",
    "        if(judge_type(value)):\n",
    "            self.value = value\n",
    "            print(\"Initial value {} has been set\".format(self.value))\n",
    "        else:\n",
    "            self.value = value\n",
    "\n",
    "    def add(self, value2):\n",
    "         if judge_type(self.value) and  judge_type(value2):\n",
    "             self.value += value2\n",
    "         else:\n",
    "             self.value = \" can not be calculated because one of the value is not a number\"\n",
    "\n",
    "    def sub(self, value2):\n",
    "         if judge_type(self.value) and  judge_type(value2):\n",
    "             self.value -= value2\n",
    "         else:\n",
    "             self.value = \" can not be calculated because one of the value is not a number\"\n",
    "\n",
    "    def mult(self, value2):\n",
    "         if judge_type(self.value) and  judge_type(value2):\n",
    "             self.value *= value2\n",
    "         else:\n",
    "             self.value = \" can not be calculated because one of the value is not a number\"\n",
    "\n",
    "    def div(self, value2):\n",
    "         if judge_type(self.value) and  judge_type(value2):\n",
    "             self.value /= value2\n",
    "         else:\n",
    "             self.value = \" can not be calculated because one of the value is not a number\"\n",
    "\n",
    "example = ArthClass(5)\n",
    "print(\"value : {}\".format(example.value))\n",
    "\n",
    "example.add(3)\n",
    "print(\"Additon value : {}\".format(example.value))\n",
    "\n",
    "example.sub(3)\n",
    "print(\"Subtraction value : {}\".format(example.value))\n",
    "\n",
    "example.mult(3)\n",
    "print(\"Multiplication value : {}\".format(example.value))\n",
    "\n",
    "example.div(3)\n",
    "print(\"division value : {}\".format(example.value))\n",
    "\n",
    "example = ArthClass('p')\n",
    "example.add(3)\n",
    "print(\"Additon with wrong input : {}\".format(example.value))"
   ]
  }
 ]
}