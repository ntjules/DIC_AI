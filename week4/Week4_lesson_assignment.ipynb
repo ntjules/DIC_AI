{
 "metadata": {
  "language_info": {
   "codemirror_mode": {
    "name": "ipython",
    "version": 3
   },
   "file_extension": ".py",
   "mimetype": "text/x-python",
   "name": "python",
   "nbconvert_exporter": "python",
   "pygments_lexer": "ipython3",
   "version": "3.7.7"
  },
  "orig_nbformat": 2,
  "kernelspec": {
   "name": "python3",
   "display_name": "Python 3.7.7 64-bit ('3.7.7': pyenv)"
  },
  "interpreter": {
   "hash": "41e12572e2e093a11ec38850d8e6db066c93535a044bffd5ad3e8641c2dfa42f"
  }
 },
 "nbformat": 4,
 "nbformat_minor": 2,
 "cells": [
  {
   "source": [
    "### Introductory Machine Learning Class assignment and Learning Credit Information"
   ],
   "cell_type": "markdown",
   "metadata": {}
  },
  {
   "cell_type": "code",
   "execution_count": 229,
   "metadata": {},
   "outputs": [],
   "source": [
    "import numpy as np \n",
    "import pandas as pd \n",
    "from sklearn.preprocessing import LabelEncoder\n",
    "import warnings\n",
    "warnings.filterwarnings('ignore')\n",
    "\n",
    "import matplotlib.pyplot as plt \n",
    "import seaborn as sns \n"
   ]
  },
  {
   "source": [
    "#### [Problem 1] Confirmation of competition contents"
   ],
   "cell_type": "markdown",
   "metadata": {}
  },
  {
   "source": [
    "#### What to learn and what to predict?\n",
    " - study clients data and predict who are able to repay back loans\n",
    "#### What kind of file to create and submit to Kaggle?\n",
    " - Each  file should contain a header of ```SK_ID_CURR``` and ```TARGET```\n",
    "\n",
    "#### What kind of index value will be used to evaluate the submissions?\n",
    " - ```SK_ID_CURR``` and ```TARGET```"
   ],
   "cell_type": "markdown",
   "metadata": {}
  },
  {
   "source": [
    "#### [Problem 2] Learning and verification"
   ],
   "cell_type": "markdown",
   "metadata": {}
  },
  {
   "cell_type": "code",
   "execution_count": 230,
   "metadata": {},
   "outputs": [
    {
     "output_type": "stream",
     "name": "stdout",
     "text": [
      "Training data Shape:  (307511, 122)\nTesting data Shape:  (48744, 121)\n"
     ]
    },
    {
     "output_type": "execute_result",
     "data": {
      "text/plain": [
       "   SK_ID_CURR  TARGET NAME_CONTRACT_TYPE CODE_GENDER FLAG_OWN_CAR  \\\n",
       "0      100002       1         Cash loans           M            N   \n",
       "1      100003       0         Cash loans           F            N   \n",
       "2      100004       0    Revolving loans           M            Y   \n",
       "3      100006       0         Cash loans           F            N   \n",
       "4      100007       0         Cash loans           M            N   \n",
       "\n",
       "  FLAG_OWN_REALTY  CNT_CHILDREN  AMT_INCOME_TOTAL  AMT_CREDIT  AMT_ANNUITY  \\\n",
       "0               Y             0          202500.0    406597.5      24700.5   \n",
       "1               N             0          270000.0   1293502.5      35698.5   \n",
       "2               Y             0           67500.0    135000.0       6750.0   \n",
       "3               Y             0          135000.0    312682.5      29686.5   \n",
       "4               Y             0          121500.0    513000.0      21865.5   \n",
       "\n",
       "   ...  FLAG_DOCUMENT_18 FLAG_DOCUMENT_19 FLAG_DOCUMENT_20 FLAG_DOCUMENT_21  \\\n",
       "0  ...                 0                0                0                0   \n",
       "1  ...                 0                0                0                0   \n",
       "2  ...                 0                0                0                0   \n",
       "3  ...                 0                0                0                0   \n",
       "4  ...                 0                0                0                0   \n",
       "\n",
       "  AMT_REQ_CREDIT_BUREAU_HOUR AMT_REQ_CREDIT_BUREAU_DAY  \\\n",
       "0                        0.0                       0.0   \n",
       "1                        0.0                       0.0   \n",
       "2                        0.0                       0.0   \n",
       "3                        NaN                       NaN   \n",
       "4                        0.0                       0.0   \n",
       "\n",
       "   AMT_REQ_CREDIT_BUREAU_WEEK  AMT_REQ_CREDIT_BUREAU_MON  \\\n",
       "0                         0.0                        0.0   \n",
       "1                         0.0                        0.0   \n",
       "2                         0.0                        0.0   \n",
       "3                         NaN                        NaN   \n",
       "4                         0.0                        0.0   \n",
       "\n",
       "   AMT_REQ_CREDIT_BUREAU_QRT  AMT_REQ_CREDIT_BUREAU_YEAR  \n",
       "0                        0.0                         1.0  \n",
       "1                        0.0                         0.0  \n",
       "2                        0.0                         0.0  \n",
       "3                        NaN                         NaN  \n",
       "4                        0.0                         0.0  \n",
       "\n",
       "[5 rows x 122 columns]"
      ],
      "text/html": "<div>\n<style scoped>\n    .dataframe tbody tr th:only-of-type {\n        vertical-align: middle;\n    }\n\n    .dataframe tbody tr th {\n        vertical-align: top;\n    }\n\n    .dataframe thead th {\n        text-align: right;\n    }\n</style>\n<table border=\"1\" class=\"dataframe\">\n  <thead>\n    <tr style=\"text-align: right;\">\n      <th></th>\n      <th>SK_ID_CURR</th>\n      <th>TARGET</th>\n      <th>NAME_CONTRACT_TYPE</th>\n      <th>CODE_GENDER</th>\n      <th>FLAG_OWN_CAR</th>\n      <th>FLAG_OWN_REALTY</th>\n      <th>CNT_CHILDREN</th>\n      <th>AMT_INCOME_TOTAL</th>\n      <th>AMT_CREDIT</th>\n      <th>AMT_ANNUITY</th>\n      <th>...</th>\n      <th>FLAG_DOCUMENT_18</th>\n      <th>FLAG_DOCUMENT_19</th>\n      <th>FLAG_DOCUMENT_20</th>\n      <th>FLAG_DOCUMENT_21</th>\n      <th>AMT_REQ_CREDIT_BUREAU_HOUR</th>\n      <th>AMT_REQ_CREDIT_BUREAU_DAY</th>\n      <th>AMT_REQ_CREDIT_BUREAU_WEEK</th>\n      <th>AMT_REQ_CREDIT_BUREAU_MON</th>\n      <th>AMT_REQ_CREDIT_BUREAU_QRT</th>\n      <th>AMT_REQ_CREDIT_BUREAU_YEAR</th>\n    </tr>\n  </thead>\n  <tbody>\n    <tr>\n      <th>0</th>\n      <td>100002</td>\n      <td>1</td>\n      <td>Cash loans</td>\n      <td>M</td>\n      <td>N</td>\n      <td>Y</td>\n      <td>0</td>\n      <td>202500.0</td>\n      <td>406597.5</td>\n      <td>24700.5</td>\n      <td>...</td>\n      <td>0</td>\n      <td>0</td>\n      <td>0</td>\n      <td>0</td>\n      <td>0.0</td>\n      <td>0.0</td>\n      <td>0.0</td>\n      <td>0.0</td>\n      <td>0.0</td>\n      <td>1.0</td>\n    </tr>\n    <tr>\n      <th>1</th>\n      <td>100003</td>\n      <td>0</td>\n      <td>Cash loans</td>\n      <td>F</td>\n      <td>N</td>\n      <td>N</td>\n      <td>0</td>\n      <td>270000.0</td>\n      <td>1293502.5</td>\n      <td>35698.5</td>\n      <td>...</td>\n      <td>0</td>\n      <td>0</td>\n      <td>0</td>\n      <td>0</td>\n      <td>0.0</td>\n      <td>0.0</td>\n      <td>0.0</td>\n      <td>0.0</td>\n      <td>0.0</td>\n      <td>0.0</td>\n    </tr>\n    <tr>\n      <th>2</th>\n      <td>100004</td>\n      <td>0</td>\n      <td>Revolving loans</td>\n      <td>M</td>\n      <td>Y</td>\n      <td>Y</td>\n      <td>0</td>\n      <td>67500.0</td>\n      <td>135000.0</td>\n      <td>6750.0</td>\n      <td>...</td>\n      <td>0</td>\n      <td>0</td>\n      <td>0</td>\n      <td>0</td>\n      <td>0.0</td>\n      <td>0.0</td>\n      <td>0.0</td>\n      <td>0.0</td>\n      <td>0.0</td>\n      <td>0.0</td>\n    </tr>\n    <tr>\n      <th>3</th>\n      <td>100006</td>\n      <td>0</td>\n      <td>Cash loans</td>\n      <td>F</td>\n      <td>N</td>\n      <td>Y</td>\n      <td>0</td>\n      <td>135000.0</td>\n      <td>312682.5</td>\n      <td>29686.5</td>\n      <td>...</td>\n      <td>0</td>\n      <td>0</td>\n      <td>0</td>\n      <td>0</td>\n      <td>NaN</td>\n      <td>NaN</td>\n      <td>NaN</td>\n      <td>NaN</td>\n      <td>NaN</td>\n      <td>NaN</td>\n    </tr>\n    <tr>\n      <th>4</th>\n      <td>100007</td>\n      <td>0</td>\n      <td>Cash loans</td>\n      <td>M</td>\n      <td>N</td>\n      <td>Y</td>\n      <td>0</td>\n      <td>121500.0</td>\n      <td>513000.0</td>\n      <td>21865.5</td>\n      <td>...</td>\n      <td>0</td>\n      <td>0</td>\n      <td>0</td>\n      <td>0</td>\n      <td>0.0</td>\n      <td>0.0</td>\n      <td>0.0</td>\n      <td>0.0</td>\n      <td>0.0</td>\n      <td>0.0</td>\n    </tr>\n  </tbody>\n</table>\n<p>5 rows × 122 columns</p>\n</div>"
     },
     "metadata": {},
     "execution_count": 230
    }
   ],
   "source": [
    "train = pd.read_csv(\"/home/jules/projects/dic/mldocs/application_train.csv\")\n",
    "test = pd.read_csv(\"/home/jules/projects/dic/mldocs/application_test.csv\")\n",
    "\n",
    "print ('Training data Shape: ', train.shape)\n",
    "print ('Testing data Shape: ', test.shape)\n",
    "train.head()"
   ]
  },
  {
   "source": [
    "#checking missing data and drop column with over 10% of missing data\n",
    "total = train.isnull().sum().sort_values(ascending=False)\n",
    "percent = (train.isnull().sum()/train.isnull().count()).sort_values(ascending=False)\n",
    "data = pd.concat([total, percent], axis=1, keys=['Total','Percent'])\n",
    "data\n"
   ],
   "cell_type": "code",
   "metadata": {},
   "execution_count": 231,
   "outputs": [
    {
     "output_type": "execute_result",
     "data": {
      "text/plain": [
       "                           Total   Percent\n",
       "COMMONAREA_MEDI           214865  0.698723\n",
       "COMMONAREA_AVG            214865  0.698723\n",
       "COMMONAREA_MODE           214865  0.698723\n",
       "NONLIVINGAPARTMENTS_MODE  213514  0.694330\n",
       "NONLIVINGAPARTMENTS_AVG   213514  0.694330\n",
       "...                          ...       ...\n",
       "NAME_HOUSING_TYPE              0  0.000000\n",
       "NAME_FAMILY_STATUS             0  0.000000\n",
       "NAME_EDUCATION_TYPE            0  0.000000\n",
       "NAME_INCOME_TYPE               0  0.000000\n",
       "SK_ID_CURR                     0  0.000000\n",
       "\n",
       "[122 rows x 2 columns]"
      ],
      "text/html": "<div>\n<style scoped>\n    .dataframe tbody tr th:only-of-type {\n        vertical-align: middle;\n    }\n\n    .dataframe tbody tr th {\n        vertical-align: top;\n    }\n\n    .dataframe thead th {\n        text-align: right;\n    }\n</style>\n<table border=\"1\" class=\"dataframe\">\n  <thead>\n    <tr style=\"text-align: right;\">\n      <th></th>\n      <th>Total</th>\n      <th>Percent</th>\n    </tr>\n  </thead>\n  <tbody>\n    <tr>\n      <th>COMMONAREA_MEDI</th>\n      <td>214865</td>\n      <td>0.698723</td>\n    </tr>\n    <tr>\n      <th>COMMONAREA_AVG</th>\n      <td>214865</td>\n      <td>0.698723</td>\n    </tr>\n    <tr>\n      <th>COMMONAREA_MODE</th>\n      <td>214865</td>\n      <td>0.698723</td>\n    </tr>\n    <tr>\n      <th>NONLIVINGAPARTMENTS_MODE</th>\n      <td>213514</td>\n      <td>0.694330</td>\n    </tr>\n    <tr>\n      <th>NONLIVINGAPARTMENTS_AVG</th>\n      <td>213514</td>\n      <td>0.694330</td>\n    </tr>\n    <tr>\n      <th>...</th>\n      <td>...</td>\n      <td>...</td>\n    </tr>\n    <tr>\n      <th>NAME_HOUSING_TYPE</th>\n      <td>0</td>\n      <td>0.000000</td>\n    </tr>\n    <tr>\n      <th>NAME_FAMILY_STATUS</th>\n      <td>0</td>\n      <td>0.000000</td>\n    </tr>\n    <tr>\n      <th>NAME_EDUCATION_TYPE</th>\n      <td>0</td>\n      <td>0.000000</td>\n    </tr>\n    <tr>\n      <th>NAME_INCOME_TYPE</th>\n      <td>0</td>\n      <td>0.000000</td>\n    </tr>\n    <tr>\n      <th>SK_ID_CURR</th>\n      <td>0</td>\n      <td>0.000000</td>\n    </tr>\n  </tbody>\n</table>\n<p>122 rows × 2 columns</p>\n</div>"
     },
     "metadata": {},
     "execution_count": 231
    }
   ]
  },
  {
   "cell_type": "code",
   "execution_count": 232,
   "metadata": {},
   "outputs": [
    {
     "output_type": "execute_result",
     "data": {
      "text/plain": [
       "                          Total   Percent\n",
       "NAME_TYPE_SUITE            1292  0.004201\n",
       "OBS_30_CNT_SOCIAL_CIRCLE   1021  0.003320\n",
       "DEF_30_CNT_SOCIAL_CIRCLE   1021  0.003320\n",
       "OBS_60_CNT_SOCIAL_CIRCLE   1021  0.003320\n",
       "DEF_60_CNT_SOCIAL_CIRCLE   1021  0.003320\n",
       "...                         ...       ...\n",
       "NAME_HOUSING_TYPE             0  0.000000\n",
       "NAME_FAMILY_STATUS            0  0.000000\n",
       "NAME_EDUCATION_TYPE           0  0.000000\n",
       "NAME_INCOME_TYPE              0  0.000000\n",
       "SK_ID_CURR                    0  0.000000\n",
       "\n",
       "[65 rows x 2 columns]"
      ],
      "text/html": "<div>\n<style scoped>\n    .dataframe tbody tr th:only-of-type {\n        vertical-align: middle;\n    }\n\n    .dataframe tbody tr th {\n        vertical-align: top;\n    }\n\n    .dataframe thead th {\n        text-align: right;\n    }\n</style>\n<table border=\"1\" class=\"dataframe\">\n  <thead>\n    <tr style=\"text-align: right;\">\n      <th></th>\n      <th>Total</th>\n      <th>Percent</th>\n    </tr>\n  </thead>\n  <tbody>\n    <tr>\n      <th>NAME_TYPE_SUITE</th>\n      <td>1292</td>\n      <td>0.004201</td>\n    </tr>\n    <tr>\n      <th>OBS_30_CNT_SOCIAL_CIRCLE</th>\n      <td>1021</td>\n      <td>0.003320</td>\n    </tr>\n    <tr>\n      <th>DEF_30_CNT_SOCIAL_CIRCLE</th>\n      <td>1021</td>\n      <td>0.003320</td>\n    </tr>\n    <tr>\n      <th>OBS_60_CNT_SOCIAL_CIRCLE</th>\n      <td>1021</td>\n      <td>0.003320</td>\n    </tr>\n    <tr>\n      <th>DEF_60_CNT_SOCIAL_CIRCLE</th>\n      <td>1021</td>\n      <td>0.003320</td>\n    </tr>\n    <tr>\n      <th>...</th>\n      <td>...</td>\n      <td>...</td>\n    </tr>\n    <tr>\n      <th>NAME_HOUSING_TYPE</th>\n      <td>0</td>\n      <td>0.000000</td>\n    </tr>\n    <tr>\n      <th>NAME_FAMILY_STATUS</th>\n      <td>0</td>\n      <td>0.000000</td>\n    </tr>\n    <tr>\n      <th>NAME_EDUCATION_TYPE</th>\n      <td>0</td>\n      <td>0.000000</td>\n    </tr>\n    <tr>\n      <th>NAME_INCOME_TYPE</th>\n      <td>0</td>\n      <td>0.000000</td>\n    </tr>\n    <tr>\n      <th>SK_ID_CURR</th>\n      <td>0</td>\n      <td>0.000000</td>\n    </tr>\n  </tbody>\n</table>\n<p>65 rows × 2 columns</p>\n</div>"
     },
     "metadata": {},
     "execution_count": 232
    }
   ],
   "source": [
    "features= data[data.Percent < 0.1]\n",
    "features"
   ]
  },
  {
   "cell_type": "code",
   "execution_count": 233,
   "metadata": {},
   "outputs": [
    {
     "output_type": "execute_result",
     "data": {
      "text/plain": [
       "Index(['NAME_TYPE_SUITE', 'OBS_30_CNT_SOCIAL_CIRCLE',\n",
       "       'DEF_30_CNT_SOCIAL_CIRCLE', 'OBS_60_CNT_SOCIAL_CIRCLE',\n",
       "       'DEF_60_CNT_SOCIAL_CIRCLE', 'EXT_SOURCE_2', 'AMT_GOODS_PRICE',\n",
       "       'AMT_ANNUITY', 'CNT_FAM_MEMBERS', 'DAYS_LAST_PHONE_CHANGE',\n",
       "       'CNT_CHILDREN', 'FLAG_DOCUMENT_8', 'NAME_CONTRACT_TYPE', 'CODE_GENDER',\n",
       "       'FLAG_OWN_CAR', 'FLAG_DOCUMENT_2', 'FLAG_DOCUMENT_3', 'FLAG_DOCUMENT_4',\n",
       "       'FLAG_DOCUMENT_5', 'FLAG_DOCUMENT_6', 'FLAG_DOCUMENT_7',\n",
       "       'FLAG_DOCUMENT_9', 'FLAG_DOCUMENT_21', 'FLAG_DOCUMENT_10',\n",
       "       'FLAG_DOCUMENT_11', 'FLAG_OWN_REALTY', 'FLAG_DOCUMENT_13',\n",
       "       'FLAG_DOCUMENT_14', 'FLAG_DOCUMENT_15', 'FLAG_DOCUMENT_16',\n",
       "       'FLAG_DOCUMENT_17', 'FLAG_DOCUMENT_18', 'FLAG_DOCUMENT_19',\n",
       "       'FLAG_DOCUMENT_20', 'FLAG_DOCUMENT_12', 'AMT_CREDIT',\n",
       "       'AMT_INCOME_TOTAL', 'FLAG_PHONE', 'LIVE_CITY_NOT_WORK_CITY',\n",
       "       'REG_CITY_NOT_WORK_CITY', 'TARGET', 'REG_CITY_NOT_LIVE_CITY',\n",
       "       'LIVE_REGION_NOT_WORK_REGION', 'REG_REGION_NOT_WORK_REGION',\n",
       "       'REG_REGION_NOT_LIVE_REGION', 'HOUR_APPR_PROCESS_START',\n",
       "       'WEEKDAY_APPR_PROCESS_START', 'REGION_RATING_CLIENT_W_CITY',\n",
       "       'REGION_RATING_CLIENT', 'FLAG_EMAIL', 'FLAG_CONT_MOBILE',\n",
       "       'ORGANIZATION_TYPE', 'FLAG_WORK_PHONE', 'FLAG_EMP_PHONE', 'FLAG_MOBIL',\n",
       "       'DAYS_ID_PUBLISH', 'DAYS_REGISTRATION', 'DAYS_EMPLOYED', 'DAYS_BIRTH',\n",
       "       'REGION_POPULATION_RELATIVE', 'NAME_HOUSING_TYPE', 'NAME_FAMILY_STATUS',\n",
       "       'NAME_EDUCATION_TYPE', 'NAME_INCOME_TYPE', 'SK_ID_CURR'],\n",
       "      dtype='object')"
      ]
     },
     "metadata": {},
     "execution_count": 233
    }
   ],
   "source": [
    "features.index"
   ]
  },
  {
   "cell_type": "code",
   "execution_count": 234,
   "metadata": {},
   "outputs": [
    {
     "output_type": "execute_result",
     "data": {
      "text/plain": [
       "  NAME_TYPE_SUITE  OBS_30_CNT_SOCIAL_CIRCLE  DEF_30_CNT_SOCIAL_CIRCLE  \\\n",
       "0   Unaccompanied                       2.0                       2.0   \n",
       "1          Family                       1.0                       0.0   \n",
       "2   Unaccompanied                       0.0                       0.0   \n",
       "3   Unaccompanied                       2.0                       0.0   \n",
       "4   Unaccompanied                       0.0                       0.0   \n",
       "\n",
       "   OBS_60_CNT_SOCIAL_CIRCLE  DEF_60_CNT_SOCIAL_CIRCLE  EXT_SOURCE_2  \\\n",
       "0                       2.0                       2.0      0.262949   \n",
       "1                       1.0                       0.0      0.622246   \n",
       "2                       0.0                       0.0      0.555912   \n",
       "3                       2.0                       0.0      0.650442   \n",
       "4                       0.0                       0.0      0.322738   \n",
       "\n",
       "   AMT_GOODS_PRICE  AMT_ANNUITY  CNT_FAM_MEMBERS  DAYS_LAST_PHONE_CHANGE  ...  \\\n",
       "0         351000.0      24700.5              1.0                 -1134.0  ...   \n",
       "1        1129500.0      35698.5              2.0                  -828.0  ...   \n",
       "2         135000.0       6750.0              1.0                  -815.0  ...   \n",
       "3         297000.0      29686.5              2.0                  -617.0  ...   \n",
       "4         513000.0      21865.5              1.0                 -1106.0  ...   \n",
       "\n",
       "   DAYS_ID_PUBLISH  DAYS_REGISTRATION DAYS_EMPLOYED DAYS_BIRTH  \\\n",
       "0            -2120            -3648.0          -637      -9461   \n",
       "1             -291            -1186.0         -1188     -16765   \n",
       "2            -2531            -4260.0          -225     -19046   \n",
       "3            -2437            -9833.0         -3039     -19005   \n",
       "4            -3458            -4311.0         -3038     -19932   \n",
       "\n",
       "  REGION_POPULATION_RELATIVE  NAME_HOUSING_TYPE    NAME_FAMILY_STATUS  \\\n",
       "0                   0.018801  House / apartment  Single / not married   \n",
       "1                   0.003541  House / apartment               Married   \n",
       "2                   0.010032  House / apartment  Single / not married   \n",
       "3                   0.008019  House / apartment        Civil marriage   \n",
       "4                   0.028663  House / apartment  Single / not married   \n",
       "\n",
       "             NAME_EDUCATION_TYPE  NAME_INCOME_TYPE  SK_ID_CURR  \n",
       "0  Secondary / secondary special           Working      100002  \n",
       "1               Higher education     State servant      100003  \n",
       "2  Secondary / secondary special           Working      100004  \n",
       "3  Secondary / secondary special           Working      100006  \n",
       "4  Secondary / secondary special           Working      100007  \n",
       "\n",
       "[5 rows x 65 columns]"
      ],
      "text/html": "<div>\n<style scoped>\n    .dataframe tbody tr th:only-of-type {\n        vertical-align: middle;\n    }\n\n    .dataframe tbody tr th {\n        vertical-align: top;\n    }\n\n    .dataframe thead th {\n        text-align: right;\n    }\n</style>\n<table border=\"1\" class=\"dataframe\">\n  <thead>\n    <tr style=\"text-align: right;\">\n      <th></th>\n      <th>NAME_TYPE_SUITE</th>\n      <th>OBS_30_CNT_SOCIAL_CIRCLE</th>\n      <th>DEF_30_CNT_SOCIAL_CIRCLE</th>\n      <th>OBS_60_CNT_SOCIAL_CIRCLE</th>\n      <th>DEF_60_CNT_SOCIAL_CIRCLE</th>\n      <th>EXT_SOURCE_2</th>\n      <th>AMT_GOODS_PRICE</th>\n      <th>AMT_ANNUITY</th>\n      <th>CNT_FAM_MEMBERS</th>\n      <th>DAYS_LAST_PHONE_CHANGE</th>\n      <th>...</th>\n      <th>DAYS_ID_PUBLISH</th>\n      <th>DAYS_REGISTRATION</th>\n      <th>DAYS_EMPLOYED</th>\n      <th>DAYS_BIRTH</th>\n      <th>REGION_POPULATION_RELATIVE</th>\n      <th>NAME_HOUSING_TYPE</th>\n      <th>NAME_FAMILY_STATUS</th>\n      <th>NAME_EDUCATION_TYPE</th>\n      <th>NAME_INCOME_TYPE</th>\n      <th>SK_ID_CURR</th>\n    </tr>\n  </thead>\n  <tbody>\n    <tr>\n      <th>0</th>\n      <td>Unaccompanied</td>\n      <td>2.0</td>\n      <td>2.0</td>\n      <td>2.0</td>\n      <td>2.0</td>\n      <td>0.262949</td>\n      <td>351000.0</td>\n      <td>24700.5</td>\n      <td>1.0</td>\n      <td>-1134.0</td>\n      <td>...</td>\n      <td>-2120</td>\n      <td>-3648.0</td>\n      <td>-637</td>\n      <td>-9461</td>\n      <td>0.018801</td>\n      <td>House / apartment</td>\n      <td>Single / not married</td>\n      <td>Secondary / secondary special</td>\n      <td>Working</td>\n      <td>100002</td>\n    </tr>\n    <tr>\n      <th>1</th>\n      <td>Family</td>\n      <td>1.0</td>\n      <td>0.0</td>\n      <td>1.0</td>\n      <td>0.0</td>\n      <td>0.622246</td>\n      <td>1129500.0</td>\n      <td>35698.5</td>\n      <td>2.0</td>\n      <td>-828.0</td>\n      <td>...</td>\n      <td>-291</td>\n      <td>-1186.0</td>\n      <td>-1188</td>\n      <td>-16765</td>\n      <td>0.003541</td>\n      <td>House / apartment</td>\n      <td>Married</td>\n      <td>Higher education</td>\n      <td>State servant</td>\n      <td>100003</td>\n    </tr>\n    <tr>\n      <th>2</th>\n      <td>Unaccompanied</td>\n      <td>0.0</td>\n      <td>0.0</td>\n      <td>0.0</td>\n      <td>0.0</td>\n      <td>0.555912</td>\n      <td>135000.0</td>\n      <td>6750.0</td>\n      <td>1.0</td>\n      <td>-815.0</td>\n      <td>...</td>\n      <td>-2531</td>\n      <td>-4260.0</td>\n      <td>-225</td>\n      <td>-19046</td>\n      <td>0.010032</td>\n      <td>House / apartment</td>\n      <td>Single / not married</td>\n      <td>Secondary / secondary special</td>\n      <td>Working</td>\n      <td>100004</td>\n    </tr>\n    <tr>\n      <th>3</th>\n      <td>Unaccompanied</td>\n      <td>2.0</td>\n      <td>0.0</td>\n      <td>2.0</td>\n      <td>0.0</td>\n      <td>0.650442</td>\n      <td>297000.0</td>\n      <td>29686.5</td>\n      <td>2.0</td>\n      <td>-617.0</td>\n      <td>...</td>\n      <td>-2437</td>\n      <td>-9833.0</td>\n      <td>-3039</td>\n      <td>-19005</td>\n      <td>0.008019</td>\n      <td>House / apartment</td>\n      <td>Civil marriage</td>\n      <td>Secondary / secondary special</td>\n      <td>Working</td>\n      <td>100006</td>\n    </tr>\n    <tr>\n      <th>4</th>\n      <td>Unaccompanied</td>\n      <td>0.0</td>\n      <td>0.0</td>\n      <td>0.0</td>\n      <td>0.0</td>\n      <td>0.322738</td>\n      <td>513000.0</td>\n      <td>21865.5</td>\n      <td>1.0</td>\n      <td>-1106.0</td>\n      <td>...</td>\n      <td>-3458</td>\n      <td>-4311.0</td>\n      <td>-3038</td>\n      <td>-19932</td>\n      <td>0.028663</td>\n      <td>House / apartment</td>\n      <td>Single / not married</td>\n      <td>Secondary / secondary special</td>\n      <td>Working</td>\n      <td>100007</td>\n    </tr>\n  </tbody>\n</table>\n<p>5 rows × 65 columns</p>\n</div>"
     },
     "metadata": {},
     "execution_count": 234
    }
   ],
   "source": [
    "train = train[features.index]\n",
    "train.head()"
   ]
  },
  {
   "cell_type": "code",
   "execution_count": 235,
   "metadata": {},
   "outputs": [
    {
     "output_type": "execute_result",
     "data": {
      "text/plain": [
       "                          Total   Percent\n",
       "COMMONAREA_AVG            33495  0.687161\n",
       "COMMONAREA_MODE           33495  0.687161\n",
       "COMMONAREA_MEDI           33495  0.687161\n",
       "NONLIVINGAPARTMENTS_AVG   33347  0.684125\n",
       "NONLIVINGAPARTMENTS_MODE  33347  0.684125\n",
       "...                         ...       ...\n",
       "NAME_HOUSING_TYPE             0  0.000000\n",
       "NAME_FAMILY_STATUS            0  0.000000\n",
       "NAME_EDUCATION_TYPE           0  0.000000\n",
       "NAME_INCOME_TYPE              0  0.000000\n",
       "SK_ID_CURR                    0  0.000000\n",
       "\n",
       "[121 rows x 2 columns]"
      ],
      "text/html": "<div>\n<style scoped>\n    .dataframe tbody tr th:only-of-type {\n        vertical-align: middle;\n    }\n\n    .dataframe tbody tr th {\n        vertical-align: top;\n    }\n\n    .dataframe thead th {\n        text-align: right;\n    }\n</style>\n<table border=\"1\" class=\"dataframe\">\n  <thead>\n    <tr style=\"text-align: right;\">\n      <th></th>\n      <th>Total</th>\n      <th>Percent</th>\n    </tr>\n  </thead>\n  <tbody>\n    <tr>\n      <th>COMMONAREA_AVG</th>\n      <td>33495</td>\n      <td>0.687161</td>\n    </tr>\n    <tr>\n      <th>COMMONAREA_MODE</th>\n      <td>33495</td>\n      <td>0.687161</td>\n    </tr>\n    <tr>\n      <th>COMMONAREA_MEDI</th>\n      <td>33495</td>\n      <td>0.687161</td>\n    </tr>\n    <tr>\n      <th>NONLIVINGAPARTMENTS_AVG</th>\n      <td>33347</td>\n      <td>0.684125</td>\n    </tr>\n    <tr>\n      <th>NONLIVINGAPARTMENTS_MODE</th>\n      <td>33347</td>\n      <td>0.684125</td>\n    </tr>\n    <tr>\n      <th>...</th>\n      <td>...</td>\n      <td>...</td>\n    </tr>\n    <tr>\n      <th>NAME_HOUSING_TYPE</th>\n      <td>0</td>\n      <td>0.000000</td>\n    </tr>\n    <tr>\n      <th>NAME_FAMILY_STATUS</th>\n      <td>0</td>\n      <td>0.000000</td>\n    </tr>\n    <tr>\n      <th>NAME_EDUCATION_TYPE</th>\n      <td>0</td>\n      <td>0.000000</td>\n    </tr>\n    <tr>\n      <th>NAME_INCOME_TYPE</th>\n      <td>0</td>\n      <td>0.000000</td>\n    </tr>\n    <tr>\n      <th>SK_ID_CURR</th>\n      <td>0</td>\n      <td>0.000000</td>\n    </tr>\n  </tbody>\n</table>\n<p>121 rows × 2 columns</p>\n</div>"
     },
     "metadata": {},
     "execution_count": 235
    }
   ],
   "source": [
    "total_test = test.isnull().sum().sort_values(ascending=False)\n",
    "percent = (test.isnull().sum()/test.isnull().count()).sort_values(ascending=False)\n",
    "data_test = pd.concat([total_test,percent], axis=1, keys=['Total','Percent'])\n",
    "data_test"
   ]
  },
  {
   "cell_type": "code",
   "execution_count": 236,
   "metadata": {},
   "outputs": [
    {
     "output_type": "execute_result",
     "data": {
      "text/plain": [
       "(64, 2)"
      ]
     },
     "metadata": {},
     "execution_count": 236
    }
   ],
   "source": [
    "test_features= data_test[data_test.Percent <0.1]\n",
    "test_features.shape"
   ]
  },
  {
   "cell_type": "code",
   "execution_count": 237,
   "metadata": {},
   "outputs": [
    {
     "output_type": "execute_result",
     "data": {
      "text/plain": [
       "  NAME_TYPE_SUITE  DEF_30_CNT_SOCIAL_CIRCLE  OBS_30_CNT_SOCIAL_CIRCLE  \\\n",
       "0   Unaccompanied                       0.0                       0.0   \n",
       "1   Unaccompanied                       0.0                       0.0   \n",
       "2             NaN                       0.0                       0.0   \n",
       "3   Unaccompanied                       0.0                       0.0   \n",
       "4   Unaccompanied                       0.0                       0.0   \n",
       "\n",
       "   OBS_60_CNT_SOCIAL_CIRCLE  DEF_60_CNT_SOCIAL_CIRCLE  AMT_ANNUITY  \\\n",
       "0                       0.0                       0.0      20560.5   \n",
       "1                       0.0                       0.0      17370.0   \n",
       "2                       0.0                       0.0      69777.0   \n",
       "3                       0.0                       0.0      49018.5   \n",
       "4                       0.0                       0.0      32067.0   \n",
       "\n",
       "   EXT_SOURCE_2  FLAG_DOCUMENT_21  FLAG_DOCUMENT_20 CODE_GENDER  ...  \\\n",
       "0      0.789654                 0                 0           F  ...   \n",
       "1      0.291656                 0                 0           M  ...   \n",
       "2      0.699787                 0                 0           M  ...   \n",
       "3      0.509677                 0                 0           F  ...   \n",
       "4      0.425687                 0                 0           M  ...   \n",
       "\n",
       "  DAYS_ID_PUBLISH DAYS_REGISTRATION  DAYS_EMPLOYED  DAYS_BIRTH  \\\n",
       "0            -812           -5170.0          -2329      -19241   \n",
       "1           -1623           -9118.0          -4469      -18064   \n",
       "2           -3503           -2175.0          -4458      -20038   \n",
       "3           -4208           -2000.0          -1866      -13976   \n",
       "4           -4262           -4000.0          -2191      -13040   \n",
       "\n",
       "   REGION_POPULATION_RELATIVE  NAME_HOUSING_TYPE  NAME_FAMILY_STATUS  \\\n",
       "0                    0.018850  House / apartment             Married   \n",
       "1                    0.035792  House / apartment             Married   \n",
       "2                    0.019101  House / apartment             Married   \n",
       "3                    0.026392  House / apartment             Married   \n",
       "4                    0.010032  House / apartment             Married   \n",
       "\n",
       "             NAME_EDUCATION_TYPE  NAME_INCOME_TYPE  SK_ID_CURR  \n",
       "0               Higher education           Working      100001  \n",
       "1  Secondary / secondary special           Working      100005  \n",
       "2               Higher education           Working      100013  \n",
       "3  Secondary / secondary special           Working      100028  \n",
       "4  Secondary / secondary special           Working      100038  \n",
       "\n",
       "[5 rows x 64 columns]"
      ],
      "text/html": "<div>\n<style scoped>\n    .dataframe tbody tr th:only-of-type {\n        vertical-align: middle;\n    }\n\n    .dataframe tbody tr th {\n        vertical-align: top;\n    }\n\n    .dataframe thead th {\n        text-align: right;\n    }\n</style>\n<table border=\"1\" class=\"dataframe\">\n  <thead>\n    <tr style=\"text-align: right;\">\n      <th></th>\n      <th>NAME_TYPE_SUITE</th>\n      <th>DEF_30_CNT_SOCIAL_CIRCLE</th>\n      <th>OBS_30_CNT_SOCIAL_CIRCLE</th>\n      <th>OBS_60_CNT_SOCIAL_CIRCLE</th>\n      <th>DEF_60_CNT_SOCIAL_CIRCLE</th>\n      <th>AMT_ANNUITY</th>\n      <th>EXT_SOURCE_2</th>\n      <th>FLAG_DOCUMENT_21</th>\n      <th>FLAG_DOCUMENT_20</th>\n      <th>CODE_GENDER</th>\n      <th>...</th>\n      <th>DAYS_ID_PUBLISH</th>\n      <th>DAYS_REGISTRATION</th>\n      <th>DAYS_EMPLOYED</th>\n      <th>DAYS_BIRTH</th>\n      <th>REGION_POPULATION_RELATIVE</th>\n      <th>NAME_HOUSING_TYPE</th>\n      <th>NAME_FAMILY_STATUS</th>\n      <th>NAME_EDUCATION_TYPE</th>\n      <th>NAME_INCOME_TYPE</th>\n      <th>SK_ID_CURR</th>\n    </tr>\n  </thead>\n  <tbody>\n    <tr>\n      <th>0</th>\n      <td>Unaccompanied</td>\n      <td>0.0</td>\n      <td>0.0</td>\n      <td>0.0</td>\n      <td>0.0</td>\n      <td>20560.5</td>\n      <td>0.789654</td>\n      <td>0</td>\n      <td>0</td>\n      <td>F</td>\n      <td>...</td>\n      <td>-812</td>\n      <td>-5170.0</td>\n      <td>-2329</td>\n      <td>-19241</td>\n      <td>0.018850</td>\n      <td>House / apartment</td>\n      <td>Married</td>\n      <td>Higher education</td>\n      <td>Working</td>\n      <td>100001</td>\n    </tr>\n    <tr>\n      <th>1</th>\n      <td>Unaccompanied</td>\n      <td>0.0</td>\n      <td>0.0</td>\n      <td>0.0</td>\n      <td>0.0</td>\n      <td>17370.0</td>\n      <td>0.291656</td>\n      <td>0</td>\n      <td>0</td>\n      <td>M</td>\n      <td>...</td>\n      <td>-1623</td>\n      <td>-9118.0</td>\n      <td>-4469</td>\n      <td>-18064</td>\n      <td>0.035792</td>\n      <td>House / apartment</td>\n      <td>Married</td>\n      <td>Secondary / secondary special</td>\n      <td>Working</td>\n      <td>100005</td>\n    </tr>\n    <tr>\n      <th>2</th>\n      <td>NaN</td>\n      <td>0.0</td>\n      <td>0.0</td>\n      <td>0.0</td>\n      <td>0.0</td>\n      <td>69777.0</td>\n      <td>0.699787</td>\n      <td>0</td>\n      <td>0</td>\n      <td>M</td>\n      <td>...</td>\n      <td>-3503</td>\n      <td>-2175.0</td>\n      <td>-4458</td>\n      <td>-20038</td>\n      <td>0.019101</td>\n      <td>House / apartment</td>\n      <td>Married</td>\n      <td>Higher education</td>\n      <td>Working</td>\n      <td>100013</td>\n    </tr>\n    <tr>\n      <th>3</th>\n      <td>Unaccompanied</td>\n      <td>0.0</td>\n      <td>0.0</td>\n      <td>0.0</td>\n      <td>0.0</td>\n      <td>49018.5</td>\n      <td>0.509677</td>\n      <td>0</td>\n      <td>0</td>\n      <td>F</td>\n      <td>...</td>\n      <td>-4208</td>\n      <td>-2000.0</td>\n      <td>-1866</td>\n      <td>-13976</td>\n      <td>0.026392</td>\n      <td>House / apartment</td>\n      <td>Married</td>\n      <td>Secondary / secondary special</td>\n      <td>Working</td>\n      <td>100028</td>\n    </tr>\n    <tr>\n      <th>4</th>\n      <td>Unaccompanied</td>\n      <td>0.0</td>\n      <td>0.0</td>\n      <td>0.0</td>\n      <td>0.0</td>\n      <td>32067.0</td>\n      <td>0.425687</td>\n      <td>0</td>\n      <td>0</td>\n      <td>M</td>\n      <td>...</td>\n      <td>-4262</td>\n      <td>-4000.0</td>\n      <td>-2191</td>\n      <td>-13040</td>\n      <td>0.010032</td>\n      <td>House / apartment</td>\n      <td>Married</td>\n      <td>Secondary / secondary special</td>\n      <td>Working</td>\n      <td>100038</td>\n    </tr>\n  </tbody>\n</table>\n<p>5 rows × 64 columns</p>\n</div>"
     },
     "metadata": {},
     "execution_count": 237
    }
   ],
   "source": [
    "test = test[test_features.index]\n",
    "test.head()"
   ]
  },
  {
   "cell_type": "code",
   "execution_count": 238,
   "metadata": {},
   "outputs": [
    {
     "output_type": "execute_result",
     "data": {
      "text/plain": [
       "0    282686\n",
       "1     24825\n",
       "Name: TARGET, dtype: int64"
      ]
     },
     "metadata": {},
     "execution_count": 238
    }
   ],
   "source": [
    "# No of samples of each label\n",
    "train.TARGET.value_counts()"
   ]
  },
  {
   "cell_type": "code",
   "execution_count": 239,
   "metadata": {},
   "outputs": [
    {
     "output_type": "stream",
     "name": "stdout",
     "text": [
      "0: loan repaid on time, 1:loan unpaid\n"
     ]
    },
    {
     "output_type": "display_data",
     "data": {
      "text/plain": "<Figure size 432x288 with 1 Axes>",
      "image/svg+xml": "<?xml version=\"1.0\" encoding=\"utf-8\" standalone=\"no\"?>\n<!DOCTYPE svg PUBLIC \"-//W3C//DTD SVG 1.1//EN\"\n  \"http://www.w3.org/Graphics/SVG/1.1/DTD/svg11.dtd\">\n<svg height=\"246.958125pt\" version=\"1.1\" viewBox=\"0 0 231.84 246.958125\" width=\"231.84pt\" xmlns=\"http://www.w3.org/2000/svg\" xmlns:xlink=\"http://www.w3.org/1999/xlink\">\n <metadata>\n  <rdf:RDF xmlns:cc=\"http://creativecommons.org/ns#\" xmlns:dc=\"http://purl.org/dc/elements/1.1/\" xmlns:rdf=\"http://www.w3.org/1999/02/22-rdf-syntax-ns#\">\n   <cc:Work>\n    <dc:type rdf:resource=\"http://purl.org/dc/dcmitype/StillImage\"/>\n    <dc:date>2021-07-20T22:55:51.832918</dc:date>\n    <dc:format>image/svg+xml</dc:format>\n    <dc:creator>\n     <cc:Agent>\n      <dc:title>Matplotlib v3.4.1, https://matplotlib.org/</dc:title>\n     </cc:Agent>\n    </dc:creator>\n   </cc:Work>\n  </rdf:RDF>\n </metadata>\n <defs>\n  <style type=\"text/css\">*{stroke-linecap:butt;stroke-linejoin:round;}</style>\n </defs>\n <g id=\"figure_1\">\n  <g id=\"patch_1\">\n   <path d=\"M 0 246.958125 \nL 231.84 246.958125 \nL 231.84 0 \nL 0 0 \nz\n\" style=\"fill:none;\"/>\n  </g>\n  <g id=\"axes_1\">\n   <g id=\"patch_2\">\n    <path d=\"M 114.18048 45.801645 \nC 103.686124 45.801645 93.277884 47.700988 83.45994 51.407669 \nC 73.641996 55.11435 64.575478 60.567536 56.699574 67.503071 \nC 48.82367 74.438606 42.267638 82.742665 37.349054 92.012997 \nC 32.43047 101.283328 29.230059 111.367788 27.902848 121.77788 \nC 26.575638 132.187973 27.143411 142.752848 29.578664 152.96074 \nC 32.013917 163.168632 36.276684 172.852009 42.160473 181.541804 \nC 48.044262 190.231598 55.45251 197.785196 64.026358 203.836695 \nC 72.600205 209.888195 82.19894 214.33828 92.357594 216.971387 \nC 102.516249 219.604494 113.0681 220.377409 123.502012 219.252691 \nC 133.935924 218.127973 144.080657 215.124081 153.444794 210.386525 \nC 162.808932 205.648968 171.238791 199.2555 178.326026 191.515823 \nC 185.413261 183.776145 191.041557 174.81728 194.938276 165.073201 \nC 198.834996 155.329121 200.936186 144.959745 201.140065 134.467369 \nC 201.343944 123.974994 199.647165 113.531818 196.131921 103.643716 \nC 192.616678 93.755613 187.340661 84.584866 180.559444 76.575708 \nC 173.778227 68.566551 165.603102 61.850428 156.430076 56.752674 \nL 114.18048 132.777645 \nL 114.18048 45.801645 \nz\n\" style=\"fill:#092436;opacity:0.5;stroke:#092436;stroke-linejoin:miter;\"/>\n   </g>\n   <g id=\"patch_3\">\n    <path d=\"M 156.430076 56.752674 \nC 149.994398 53.176155 143.130549 50.431258 136.003368 48.583903 \nC 128.876187 46.736549 121.543189 45.801645 114.180484 45.801645 \nL 114.18048 132.777645 \nL 156.430076 56.752674 \nz\n\" style=\"fill:#4c2604;opacity:0.5;stroke:#4c2604;stroke-linejoin:miter;\"/>\n   </g>\n   <g id=\"patch_4\">\n    <path d=\"M 115.92 44.062125 \nC 105.425644 44.062125 95.017404 45.961468 85.19946 49.668149 \nC 75.381516 53.37483 66.314998 58.828016 58.439094 65.763551 \nC 50.56319 72.699086 44.007158 81.003145 39.088574 90.273477 \nC 34.16999 99.543808 30.969579 109.628268 29.642368 120.03836 \nC 28.315158 130.448453 28.882931 141.013328 31.318184 151.22122 \nC 33.753437 161.429112 38.016204 171.112489 43.899993 179.802284 \nC 49.783782 188.492078 57.19203 196.045676 65.765878 202.097175 \nC 74.339725 208.148675 83.93846 212.59876 94.097114 215.231867 \nC 104.255769 217.864974 114.80762 218.637889 125.241532 217.513171 \nC 135.675444 216.388453 145.820177 213.384561 155.184314 208.647005 \nC 164.548452 203.909448 172.978311 197.51598 180.065546 189.776303 \nC 187.152781 182.036625 192.781077 173.07776 196.677796 163.333681 \nC 200.574516 153.589601 202.675706 143.220225 202.879585 132.727849 \nC 203.083464 122.235474 201.386685 111.792298 197.871441 101.904196 \nC 194.356198 92.016093 189.080181 82.845346 182.298964 74.836188 \nC 175.517747 66.827031 167.342622 60.110908 158.169596 55.013154 \nL 115.92 131.038125 \nL 115.92 44.062125 \nz\n\" style=\"fill:#1f77b4;\"/>\n   </g>\n   <g id=\"patch_5\">\n    <path d=\"M 158.169596 55.013154 \nC 151.733918 51.436635 144.870069 48.691738 137.742888 46.844383 \nC 130.615707 44.997029 123.282709 44.062125 115.920004 44.062125 \nL 115.92 131.038125 \nL 158.169596 55.013154 \nz\n\" style=\"fill:#ff7f0e;\"/>\n   </g>\n   <g id=\"matplotlib.axis_1\"/>\n   <g id=\"matplotlib.axis_2\"/>\n   <g id=\"text_1\">\n    <!-- 0 -->\n    <g transform=\"translate(85.552326 226.410616)scale(0.1 -0.1)\">\n     <defs>\n      <path d=\"M 2034 4250 \nQ 1547 4250 1301 3770 \nQ 1056 3291 1056 2328 \nQ 1056 1369 1301 889 \nQ 1547 409 2034 409 \nQ 2525 409 2770 889 \nQ 3016 1369 3016 2328 \nQ 3016 3291 2770 3770 \nQ 2525 4250 2034 4250 \nz\nM 2034 4750 \nQ 2819 4750 3233 4129 \nQ 3647 3509 3647 2328 \nQ 3647 1150 3233 529 \nQ 2819 -91 2034 -91 \nQ 1250 -91 836 529 \nQ 422 1150 422 2328 \nQ 422 3509 836 4129 \nQ 1250 4750 2034 4750 \nz\n\" id=\"DejaVuSans-30\" transform=\"scale(0.015625)\"/>\n     </defs>\n     <use xlink:href=\"#DejaVuSans-30\"/>\n    </g>\n   </g>\n   <g id=\"text_2\">\n    <!-- 91.9% -->\n    <g transform=\"translate(86.942675 184.313745)scale(0.1 -0.1)\">\n     <defs>\n      <path d=\"M 703 97 \nL 703 672 \nQ 941 559 1184 500 \nQ 1428 441 1663 441 \nQ 2288 441 2617 861 \nQ 2947 1281 2994 2138 \nQ 2813 1869 2534 1725 \nQ 2256 1581 1919 1581 \nQ 1219 1581 811 2004 \nQ 403 2428 403 3163 \nQ 403 3881 828 4315 \nQ 1253 4750 1959 4750 \nQ 2769 4750 3195 4129 \nQ 3622 3509 3622 2328 \nQ 3622 1225 3098 567 \nQ 2575 -91 1691 -91 \nQ 1453 -91 1209 -44 \nQ 966 3 703 97 \nz\nM 1959 2075 \nQ 2384 2075 2632 2365 \nQ 2881 2656 2881 3163 \nQ 2881 3666 2632 3958 \nQ 2384 4250 1959 4250 \nQ 1534 4250 1286 3958 \nQ 1038 3666 1038 3163 \nQ 1038 2656 1286 2365 \nQ 1534 2075 1959 2075 \nz\n\" id=\"DejaVuSans-39\" transform=\"scale(0.015625)\"/>\n      <path d=\"M 794 531 \nL 1825 531 \nL 1825 4091 \nL 703 3866 \nL 703 4441 \nL 1819 4666 \nL 2450 4666 \nL 2450 531 \nL 3481 531 \nL 3481 0 \nL 794 0 \nL 794 531 \nz\n\" id=\"DejaVuSans-31\" transform=\"scale(0.015625)\"/>\n      <path d=\"M 684 794 \nL 1344 794 \nL 1344 0 \nL 684 0 \nL 684 794 \nz\n\" id=\"DejaVuSans-2e\" transform=\"scale(0.015625)\"/>\n      <path d=\"M 4653 2053 \nQ 4381 2053 4226 1822 \nQ 4072 1591 4072 1178 \nQ 4072 772 4226 539 \nQ 4381 306 4653 306 \nQ 4919 306 5073 539 \nQ 5228 772 5228 1178 \nQ 5228 1588 5073 1820 \nQ 4919 2053 4653 2053 \nz\nM 4653 2450 \nQ 5147 2450 5437 2106 \nQ 5728 1763 5728 1178 \nQ 5728 594 5436 251 \nQ 5144 -91 4653 -91 \nQ 4153 -91 3862 251 \nQ 3572 594 3572 1178 \nQ 3572 1766 3864 2108 \nQ 4156 2450 4653 2450 \nz\nM 1428 4353 \nQ 1159 4353 1004 4120 \nQ 850 3888 850 3481 \nQ 850 3069 1003 2837 \nQ 1156 2606 1428 2606 \nQ 1700 2606 1854 2837 \nQ 2009 3069 2009 3481 \nQ 2009 3884 1853 4118 \nQ 1697 4353 1428 4353 \nz\nM 4250 4750 \nL 4750 4750 \nL 1831 -91 \nL 1331 -91 \nL 4250 4750 \nz\nM 1428 4750 \nQ 1922 4750 2215 4408 \nQ 2509 4066 2509 3481 \nQ 2509 2891 2217 2550 \nQ 1925 2209 1428 2209 \nQ 931 2209 642 2551 \nQ 353 2894 353 3481 \nQ 353 4063 643 4406 \nQ 934 4750 1428 4750 \nz\n\" id=\"DejaVuSans-25\" transform=\"scale(0.015625)\"/>\n     </defs>\n     <use xlink:href=\"#DejaVuSans-39\"/>\n     <use x=\"63.623047\" xlink:href=\"#DejaVuSans-31\"/>\n     <use x=\"127.246094\" xlink:href=\"#DejaVuSans-2e\"/>\n     <use x=\"159.033203\" xlink:href=\"#DejaVuSans-39\"/>\n     <use x=\"222.65625\" xlink:href=\"#DejaVuSans-25\"/>\n    </g>\n   </g>\n   <g id=\"text_3\">\n    <!-- 1 -->\n    <g transform=\"translate(139.925176 41.184384)scale(0.1 -0.1)\">\n     <use xlink:href=\"#DejaVuSans-31\"/>\n    </g>\n   </g>\n   <g id=\"text_4\">\n    <!-- 8.1% -->\n    <g transform=\"translate(116.311389 83.281255)scale(0.1 -0.1)\">\n     <defs>\n      <path d=\"M 2034 2216 \nQ 1584 2216 1326 1975 \nQ 1069 1734 1069 1313 \nQ 1069 891 1326 650 \nQ 1584 409 2034 409 \nQ 2484 409 2743 651 \nQ 3003 894 3003 1313 \nQ 3003 1734 2745 1975 \nQ 2488 2216 2034 2216 \nz\nM 1403 2484 \nQ 997 2584 770 2862 \nQ 544 3141 544 3541 \nQ 544 4100 942 4425 \nQ 1341 4750 2034 4750 \nQ 2731 4750 3128 4425 \nQ 3525 4100 3525 3541 \nQ 3525 3141 3298 2862 \nQ 3072 2584 2669 2484 \nQ 3125 2378 3379 2068 \nQ 3634 1759 3634 1313 \nQ 3634 634 3220 271 \nQ 2806 -91 2034 -91 \nQ 1263 -91 848 271 \nQ 434 634 434 1313 \nQ 434 1759 690 2068 \nQ 947 2378 1403 2484 \nz\nM 1172 3481 \nQ 1172 3119 1398 2916 \nQ 1625 2713 2034 2713 \nQ 2441 2713 2670 2916 \nQ 2900 3119 2900 3481 \nQ 2900 3844 2670 4047 \nQ 2441 4250 2034 4250 \nQ 1625 4250 1398 4047 \nQ 1172 3844 1172 3481 \nz\n\" id=\"DejaVuSans-38\" transform=\"scale(0.015625)\"/>\n     </defs>\n     <use xlink:href=\"#DejaVuSans-38\"/>\n     <use x=\"63.623047\" xlink:href=\"#DejaVuSans-2e\"/>\n     <use x=\"95.410156\" xlink:href=\"#DejaVuSans-31\"/>\n     <use x=\"159.033203\" xlink:href=\"#DejaVuSans-25\"/>\n    </g>\n   </g>\n   <g id=\"text_5\">\n    <!-- Loans reapid of not -->\n    <g transform=\"translate(58.090313 16.318125)scale(0.12 -0.12)\">\n     <defs>\n      <path d=\"M 628 4666 \nL 1259 4666 \nL 1259 531 \nL 3531 531 \nL 3531 0 \nL 628 0 \nL 628 4666 \nz\n\" id=\"DejaVuSans-4c\" transform=\"scale(0.015625)\"/>\n      <path d=\"M 1959 3097 \nQ 1497 3097 1228 2736 \nQ 959 2375 959 1747 \nQ 959 1119 1226 758 \nQ 1494 397 1959 397 \nQ 2419 397 2687 759 \nQ 2956 1122 2956 1747 \nQ 2956 2369 2687 2733 \nQ 2419 3097 1959 3097 \nz\nM 1959 3584 \nQ 2709 3584 3137 3096 \nQ 3566 2609 3566 1747 \nQ 3566 888 3137 398 \nQ 2709 -91 1959 -91 \nQ 1206 -91 779 398 \nQ 353 888 353 1747 \nQ 353 2609 779 3096 \nQ 1206 3584 1959 3584 \nz\n\" id=\"DejaVuSans-6f\" transform=\"scale(0.015625)\"/>\n      <path d=\"M 2194 1759 \nQ 1497 1759 1228 1600 \nQ 959 1441 959 1056 \nQ 959 750 1161 570 \nQ 1363 391 1709 391 \nQ 2188 391 2477 730 \nQ 2766 1069 2766 1631 \nL 2766 1759 \nL 2194 1759 \nz\nM 3341 1997 \nL 3341 0 \nL 2766 0 \nL 2766 531 \nQ 2569 213 2275 61 \nQ 1981 -91 1556 -91 \nQ 1019 -91 701 211 \nQ 384 513 384 1019 \nQ 384 1609 779 1909 \nQ 1175 2209 1959 2209 \nL 2766 2209 \nL 2766 2266 \nQ 2766 2663 2505 2880 \nQ 2244 3097 1772 3097 \nQ 1472 3097 1187 3025 \nQ 903 2953 641 2809 \nL 641 3341 \nQ 956 3463 1253 3523 \nQ 1550 3584 1831 3584 \nQ 2591 3584 2966 3190 \nQ 3341 2797 3341 1997 \nz\n\" id=\"DejaVuSans-61\" transform=\"scale(0.015625)\"/>\n      <path d=\"M 3513 2113 \nL 3513 0 \nL 2938 0 \nL 2938 2094 \nQ 2938 2591 2744 2837 \nQ 2550 3084 2163 3084 \nQ 1697 3084 1428 2787 \nQ 1159 2491 1159 1978 \nL 1159 0 \nL 581 0 \nL 581 3500 \nL 1159 3500 \nL 1159 2956 \nQ 1366 3272 1645 3428 \nQ 1925 3584 2291 3584 \nQ 2894 3584 3203 3211 \nQ 3513 2838 3513 2113 \nz\n\" id=\"DejaVuSans-6e\" transform=\"scale(0.015625)\"/>\n      <path d=\"M 2834 3397 \nL 2834 2853 \nQ 2591 2978 2328 3040 \nQ 2066 3103 1784 3103 \nQ 1356 3103 1142 2972 \nQ 928 2841 928 2578 \nQ 928 2378 1081 2264 \nQ 1234 2150 1697 2047 \nL 1894 2003 \nQ 2506 1872 2764 1633 \nQ 3022 1394 3022 966 \nQ 3022 478 2636 193 \nQ 2250 -91 1575 -91 \nQ 1294 -91 989 -36 \nQ 684 19 347 128 \nL 347 722 \nQ 666 556 975 473 \nQ 1284 391 1588 391 \nQ 1994 391 2212 530 \nQ 2431 669 2431 922 \nQ 2431 1156 2273 1281 \nQ 2116 1406 1581 1522 \nL 1381 1569 \nQ 847 1681 609 1914 \nQ 372 2147 372 2553 \nQ 372 3047 722 3315 \nQ 1072 3584 1716 3584 \nQ 2034 3584 2315 3537 \nQ 2597 3491 2834 3397 \nz\n\" id=\"DejaVuSans-73\" transform=\"scale(0.015625)\"/>\n      <path id=\"DejaVuSans-20\" transform=\"scale(0.015625)\"/>\n      <path d=\"M 2631 2963 \nQ 2534 3019 2420 3045 \nQ 2306 3072 2169 3072 \nQ 1681 3072 1420 2755 \nQ 1159 2438 1159 1844 \nL 1159 0 \nL 581 0 \nL 581 3500 \nL 1159 3500 \nL 1159 2956 \nQ 1341 3275 1631 3429 \nQ 1922 3584 2338 3584 \nQ 2397 3584 2469 3576 \nQ 2541 3569 2628 3553 \nL 2631 2963 \nz\n\" id=\"DejaVuSans-72\" transform=\"scale(0.015625)\"/>\n      <path d=\"M 3597 1894 \nL 3597 1613 \nL 953 1613 \nQ 991 1019 1311 708 \nQ 1631 397 2203 397 \nQ 2534 397 2845 478 \nQ 3156 559 3463 722 \nL 3463 178 \nQ 3153 47 2828 -22 \nQ 2503 -91 2169 -91 \nQ 1331 -91 842 396 \nQ 353 884 353 1716 \nQ 353 2575 817 3079 \nQ 1281 3584 2069 3584 \nQ 2775 3584 3186 3129 \nQ 3597 2675 3597 1894 \nz\nM 3022 2063 \nQ 3016 2534 2758 2815 \nQ 2500 3097 2075 3097 \nQ 1594 3097 1305 2825 \nQ 1016 2553 972 2059 \nL 3022 2063 \nz\n\" id=\"DejaVuSans-65\" transform=\"scale(0.015625)\"/>\n      <path d=\"M 1159 525 \nL 1159 -1331 \nL 581 -1331 \nL 581 3500 \nL 1159 3500 \nL 1159 2969 \nQ 1341 3281 1617 3432 \nQ 1894 3584 2278 3584 \nQ 2916 3584 3314 3078 \nQ 3713 2572 3713 1747 \nQ 3713 922 3314 415 \nQ 2916 -91 2278 -91 \nQ 1894 -91 1617 61 \nQ 1341 213 1159 525 \nz\nM 3116 1747 \nQ 3116 2381 2855 2742 \nQ 2594 3103 2138 3103 \nQ 1681 3103 1420 2742 \nQ 1159 2381 1159 1747 \nQ 1159 1113 1420 752 \nQ 1681 391 2138 391 \nQ 2594 391 2855 752 \nQ 3116 1113 3116 1747 \nz\n\" id=\"DejaVuSans-70\" transform=\"scale(0.015625)\"/>\n      <path d=\"M 603 3500 \nL 1178 3500 \nL 1178 0 \nL 603 0 \nL 603 3500 \nz\nM 603 4863 \nL 1178 4863 \nL 1178 4134 \nL 603 4134 \nL 603 4863 \nz\n\" id=\"DejaVuSans-69\" transform=\"scale(0.015625)\"/>\n      <path d=\"M 2906 2969 \nL 2906 4863 \nL 3481 4863 \nL 3481 0 \nL 2906 0 \nL 2906 525 \nQ 2725 213 2448 61 \nQ 2172 -91 1784 -91 \nQ 1150 -91 751 415 \nQ 353 922 353 1747 \nQ 353 2572 751 3078 \nQ 1150 3584 1784 3584 \nQ 2172 3584 2448 3432 \nQ 2725 3281 2906 2969 \nz\nM 947 1747 \nQ 947 1113 1208 752 \nQ 1469 391 1925 391 \nQ 2381 391 2643 752 \nQ 2906 1113 2906 1747 \nQ 2906 2381 2643 2742 \nQ 2381 3103 1925 3103 \nQ 1469 3103 1208 2742 \nQ 947 2381 947 1747 \nz\n\" id=\"DejaVuSans-64\" transform=\"scale(0.015625)\"/>\n      <path d=\"M 2375 4863 \nL 2375 4384 \nL 1825 4384 \nQ 1516 4384 1395 4259 \nQ 1275 4134 1275 3809 \nL 1275 3500 \nL 2222 3500 \nL 2222 3053 \nL 1275 3053 \nL 1275 0 \nL 697 0 \nL 697 3053 \nL 147 3053 \nL 147 3500 \nL 697 3500 \nL 697 3744 \nQ 697 4328 969 4595 \nQ 1241 4863 1831 4863 \nL 2375 4863 \nz\n\" id=\"DejaVuSans-66\" transform=\"scale(0.015625)\"/>\n      <path d=\"M 1172 4494 \nL 1172 3500 \nL 2356 3500 \nL 2356 3053 \nL 1172 3053 \nL 1172 1153 \nQ 1172 725 1289 603 \nQ 1406 481 1766 481 \nL 2356 481 \nL 2356 0 \nL 1766 0 \nQ 1100 0 847 248 \nQ 594 497 594 1153 \nL 594 3053 \nL 172 3053 \nL 172 3500 \nL 594 3500 \nL 594 4494 \nL 1172 4494 \nz\n\" id=\"DejaVuSans-74\" transform=\"scale(0.015625)\"/>\n     </defs>\n     <use xlink:href=\"#DejaVuSans-4c\"/>\n     <use x=\"53.962891\" xlink:href=\"#DejaVuSans-6f\"/>\n     <use x=\"115.144531\" xlink:href=\"#DejaVuSans-61\"/>\n     <use x=\"176.423828\" xlink:href=\"#DejaVuSans-6e\"/>\n     <use x=\"239.802734\" xlink:href=\"#DejaVuSans-73\"/>\n     <use x=\"291.902344\" xlink:href=\"#DejaVuSans-20\"/>\n     <use x=\"323.689453\" xlink:href=\"#DejaVuSans-72\"/>\n     <use x=\"362.552734\" xlink:href=\"#DejaVuSans-65\"/>\n     <use x=\"424.076172\" xlink:href=\"#DejaVuSans-61\"/>\n     <use x=\"485.355469\" xlink:href=\"#DejaVuSans-70\"/>\n     <use x=\"548.832031\" xlink:href=\"#DejaVuSans-69\"/>\n     <use x=\"576.615234\" xlink:href=\"#DejaVuSans-64\"/>\n     <use x=\"640.091797\" xlink:href=\"#DejaVuSans-20\"/>\n     <use x=\"671.878906\" xlink:href=\"#DejaVuSans-6f\"/>\n     <use x=\"733.060547\" xlink:href=\"#DejaVuSans-66\"/>\n     <use x=\"768.265625\" xlink:href=\"#DejaVuSans-20\"/>\n     <use x=\"800.052734\" xlink:href=\"#DejaVuSans-6e\"/>\n     <use x=\"863.431641\" xlink:href=\"#DejaVuSans-6f\"/>\n     <use x=\"924.613281\" xlink:href=\"#DejaVuSans-74\"/>\n    </g>\n   </g>\n  </g>\n </g>\n</svg>\n",
      "image/png": "[encoded data removed]"
     },
     "metadata": {}
    }
   ],
   "source": [
    "print(\"0: loan repaid on time, 1:loan unpaid\")\n",
    "plt.pie(train[\"TARGET\"].value_counts(), labels=['0','1'],autopct=\"%1.1f%%\", shadow=True, startangle=90)\n",
    "plt.title(\"Loans reapid of not\")\n",
    "plt.show()"
   ]
  },
  {
   "cell_type": "code",
   "execution_count": 240,
   "metadata": {},
   "outputs": [
    {
     "output_type": "stream",
     "name": "stdout",
     "text": [
      "<class 'pandas.core.frame.DataFrame'>\nRangeIndex: 307511 entries, 0 to 307510\nData columns (total 65 columns):\n #   Column                       Non-Null Count   Dtype  \n---  ------                       --------------   -----  \n 0   NAME_TYPE_SUITE              306219 non-null  object \n 1   OBS_30_CNT_SOCIAL_CIRCLE     306490 non-null  float64\n 2   DEF_30_CNT_SOCIAL_CIRCLE     306490 non-null  float64\n 3   OBS_60_CNT_SOCIAL_CIRCLE     306490 non-null  float64\n 4   DEF_60_CNT_SOCIAL_CIRCLE     306490 non-null  float64\n 5   EXT_SOURCE_2                 306851 non-null  float64\n 6   AMT_GOODS_PRICE              307233 non-null  float64\n 7   AMT_ANNUITY                  307499 non-null  float64\n 8   CNT_FAM_MEMBERS              307509 non-null  float64\n 9   DAYS_LAST_PHONE_CHANGE       307510 non-null  float64\n 10  CNT_CHILDREN                 307511 non-null  int64  \n 11  FLAG_DOCUMENT_8              307511 non-null  int64  \n 12  NAME_CONTRACT_TYPE           307511 non-null  object \n 13  CODE_GENDER                  307511 non-null  object \n 14  FLAG_OWN_CAR                 307511 non-null  object \n 15  FLAG_DOCUMENT_2              307511 non-null  int64  \n 16  FLAG_DOCUMENT_3              307511 non-null  int64  \n 17  FLAG_DOCUMENT_4              307511 non-null  int64  \n 18  FLAG_DOCUMENT_5              307511 non-null  int64  \n 19  FLAG_DOCUMENT_6              307511 non-null  int64  \n 20  FLAG_DOCUMENT_7              307511 non-null  int64  \n 21  FLAG_DOCUMENT_9              307511 non-null  int64  \n 22  FLAG_DOCUMENT_21             307511 non-null  int64  \n 23  FLAG_DOCUMENT_10             307511 non-null  int64  \n 24  FLAG_DOCUMENT_11             307511 non-null  int64  \n 25  FLAG_OWN_REALTY              307511 non-null  object \n 26  FLAG_DOCUMENT_13             307511 non-null  int64  \n 27  FLAG_DOCUMENT_14             307511 non-null  int64  \n 28  FLAG_DOCUMENT_15             307511 non-null  int64  \n 29  FLAG_DOCUMENT_16             307511 non-null  int64  \n 30  FLAG_DOCUMENT_17             307511 non-null  int64  \n 31  FLAG_DOCUMENT_18             307511 non-null  int64  \n 32  FLAG_DOCUMENT_19             307511 non-null  int64  \n 33  FLAG_DOCUMENT_20             307511 non-null  int64  \n 34  FLAG_DOCUMENT_12             307511 non-null  int64  \n 35  AMT_CREDIT                   307511 non-null  float64\n 36  AMT_INCOME_TOTAL             307511 non-null  float64\n 37  FLAG_PHONE                   307511 non-null  int64  \n 38  LIVE_CITY_NOT_WORK_CITY      307511 non-null  int64  \n 39  REG_CITY_NOT_WORK_CITY       307511 non-null  int64  \n 40  TARGET                       307511 non-null  int64  \n 41  REG_CITY_NOT_LIVE_CITY       307511 non-null  int64  \n 42  LIVE_REGION_NOT_WORK_REGION  307511 non-null  int64  \n 43  REG_REGION_NOT_WORK_REGION   307511 non-null  int64  \n 44  REG_REGION_NOT_LIVE_REGION   307511 non-null  int64  \n 45  HOUR_APPR_PROCESS_START      307511 non-null  int64  \n 46  WEEKDAY_APPR_PROCESS_START   307511 non-null  object \n 47  REGION_RATING_CLIENT_W_CITY  307511 non-null  int64  \n 48  REGION_RATING_CLIENT         307511 non-null  int64  \n 49  FLAG_EMAIL                   307511 non-null  int64  \n 50  FLAG_CONT_MOBILE             307511 non-null  int64  \n 51  ORGANIZATION_TYPE            307511 non-null  object \n 52  FLAG_WORK_PHONE              307511 non-null  int64  \n 53  FLAG_EMP_PHONE               307511 non-null  int64  \n 54  FLAG_MOBIL                   307511 non-null  int64  \n 55  DAYS_ID_PUBLISH              307511 non-null  int64  \n 56  DAYS_REGISTRATION            307511 non-null  float64\n 57  DAYS_EMPLOYED                307511 non-null  int64  \n 58  DAYS_BIRTH                   307511 non-null  int64  \n 59  REGION_POPULATION_RELATIVE   307511 non-null  float64\n 60  NAME_HOUSING_TYPE            307511 non-null  object \n 61  NAME_FAMILY_STATUS           307511 non-null  object \n 62  NAME_EDUCATION_TYPE          307511 non-null  object \n 63  NAME_INCOME_TYPE             307511 non-null  object \n 64  SK_ID_CURR                   307511 non-null  int64  \ndtypes: float64(13), int64(41), object(11)\nmemory usage: 152.5+ MB\n"
     ]
    }
   ],
   "source": [
    "# summary of datatypes and un-null values\n",
    "train.info()"
   ]
  },
  {
   "cell_type": "code",
   "execution_count": 241,
   "metadata": {},
   "outputs": [
    {
     "output_type": "execute_result",
     "data": {
      "text/plain": [
       "       NAME_TYPE_SUITE NAME_CONTRACT_TYPE CODE_GENDER FLAG_OWN_CAR  \\\n",
       "0        Unaccompanied         Cash loans           M            N   \n",
       "1               Family         Cash loans           F            N   \n",
       "2        Unaccompanied    Revolving loans           M            Y   \n",
       "3        Unaccompanied         Cash loans           F            N   \n",
       "4        Unaccompanied         Cash loans           M            N   \n",
       "...                ...                ...         ...          ...   \n",
       "307506   Unaccompanied         Cash loans           M            N   \n",
       "307507   Unaccompanied         Cash loans           F            N   \n",
       "307508   Unaccompanied         Cash loans           F            N   \n",
       "307509   Unaccompanied         Cash loans           F            N   \n",
       "307510   Unaccompanied         Cash loans           F            N   \n",
       "\n",
       "       FLAG_OWN_REALTY WEEKDAY_APPR_PROCESS_START       ORGANIZATION_TYPE  \\\n",
       "0                    Y                  WEDNESDAY  Business Entity Type 3   \n",
       "1                    N                     MONDAY                  School   \n",
       "2                    Y                     MONDAY              Government   \n",
       "3                    Y                  WEDNESDAY  Business Entity Type 3   \n",
       "4                    Y                   THURSDAY                Religion   \n",
       "...                ...                        ...                     ...   \n",
       "307506               N                   THURSDAY                Services   \n",
       "307507               Y                     MONDAY                     XNA   \n",
       "307508               Y                   THURSDAY                  School   \n",
       "307509               Y                  WEDNESDAY  Business Entity Type 1   \n",
       "307510               N                   THURSDAY  Business Entity Type 3   \n",
       "\n",
       "        NAME_HOUSING_TYPE    NAME_FAMILY_STATUS  \\\n",
       "0       House / apartment  Single / not married   \n",
       "1       House / apartment               Married   \n",
       "2       House / apartment  Single / not married   \n",
       "3       House / apartment        Civil marriage   \n",
       "4       House / apartment  Single / not married   \n",
       "...                   ...                   ...   \n",
       "307506       With parents             Separated   \n",
       "307507  House / apartment                 Widow   \n",
       "307508  House / apartment             Separated   \n",
       "307509  House / apartment               Married   \n",
       "307510  House / apartment               Married   \n",
       "\n",
       "                  NAME_EDUCATION_TYPE      NAME_INCOME_TYPE  \n",
       "0       Secondary / secondary special               Working  \n",
       "1                    Higher education         State servant  \n",
       "2       Secondary / secondary special               Working  \n",
       "3       Secondary / secondary special               Working  \n",
       "4       Secondary / secondary special               Working  \n",
       "...                               ...                   ...  \n",
       "307506  Secondary / secondary special               Working  \n",
       "307507  Secondary / secondary special             Pensioner  \n",
       "307508               Higher education               Working  \n",
       "307509  Secondary / secondary special  Commercial associate  \n",
       "307510               Higher education  Commercial associate  \n",
       "\n",
       "[307511 rows x 11 columns]"
      ],
      "text/html": "<div>\n<style scoped>\n    .dataframe tbody tr th:only-of-type {\n        vertical-align: middle;\n    }\n\n    .dataframe tbody tr th {\n        vertical-align: top;\n    }\n\n    .dataframe thead th {\n        text-align: right;\n    }\n</style>\n<table border=\"1\" class=\"dataframe\">\n  <thead>\n    <tr style=\"text-align: right;\">\n      <th></th>\n      <th>NAME_TYPE_SUITE</th>\n      <th>NAME_CONTRACT_TYPE</th>\n      <th>CODE_GENDER</th>\n      <th>FLAG_OWN_CAR</th>\n      <th>FLAG_OWN_REALTY</th>\n      <th>WEEKDAY_APPR_PROCESS_START</th>\n      <th>ORGANIZATION_TYPE</th>\n      <th>NAME_HOUSING_TYPE</th>\n      <th>NAME_FAMILY_STATUS</th>\n      <th>NAME_EDUCATION_TYPE</th>\n      <th>NAME_INCOME_TYPE</th>\n    </tr>\n  </thead>\n  <tbody>\n    <tr>\n      <th>0</th>\n      <td>Unaccompanied</td>\n      <td>Cash loans</td>\n      <td>M</td>\n      <td>N</td>\n      <td>Y</td>\n      <td>WEDNESDAY</td>\n      <td>Business Entity Type 3</td>\n      <td>House / apartment</td>\n      <td>Single / not married</td>\n      <td>Secondary / secondary special</td>\n      <td>Working</td>\n    </tr>\n    <tr>\n      <th>1</th>\n      <td>Family</td>\n      <td>Cash loans</td>\n      <td>F</td>\n      <td>N</td>\n      <td>N</td>\n      <td>MONDAY</td>\n      <td>School</td>\n      <td>House / apartment</td>\n      <td>Married</td>\n      <td>Higher education</td>\n      <td>State servant</td>\n    </tr>\n    <tr>\n      <th>2</th>\n      <td>Unaccompanied</td>\n      <td>Revolving loans</td>\n      <td>M</td>\n      <td>Y</td>\n      <td>Y</td>\n      <td>MONDAY</td>\n      <td>Government</td>\n      <td>House / apartment</td>\n      <td>Single / not married</td>\n      <td>Secondary / secondary special</td>\n      <td>Working</td>\n    </tr>\n    <tr>\n      <th>3</th>\n      <td>Unaccompanied</td>\n      <td>Cash loans</td>\n      <td>F</td>\n      <td>N</td>\n      <td>Y</td>\n      <td>WEDNESDAY</td>\n      <td>Business Entity Type 3</td>\n      <td>House / apartment</td>\n      <td>Civil marriage</td>\n      <td>Secondary / secondary special</td>\n      <td>Working</td>\n    </tr>\n    <tr>\n      <th>4</th>\n      <td>Unaccompanied</td>\n      <td>Cash loans</td>\n      <td>M</td>\n      <td>N</td>\n      <td>Y</td>\n      <td>THURSDAY</td>\n      <td>Religion</td>\n      <td>House / apartment</td>\n      <td>Single / not married</td>\n      <td>Secondary / secondary special</td>\n      <td>Working</td>\n    </tr>\n    <tr>\n      <th>...</th>\n      <td>...</td>\n      <td>...</td>\n      <td>...</td>\n      <td>...</td>\n      <td>...</td>\n      <td>...</td>\n      <td>...</td>\n      <td>...</td>\n      <td>...</td>\n      <td>...</td>\n      <td>...</td>\n    </tr>\n    <tr>\n      <th>307506</th>\n      <td>Unaccompanied</td>\n      <td>Cash loans</td>\n      <td>M</td>\n      <td>N</td>\n      <td>N</td>\n      <td>THURSDAY</td>\n      <td>Services</td>\n      <td>With parents</td>\n      <td>Separated</td>\n      <td>Secondary / secondary special</td>\n      <td>Working</td>\n    </tr>\n    <tr>\n      <th>307507</th>\n      <td>Unaccompanied</td>\n      <td>Cash loans</td>\n      <td>F</td>\n      <td>N</td>\n      <td>Y</td>\n      <td>MONDAY</td>\n      <td>XNA</td>\n      <td>House / apartment</td>\n      <td>Widow</td>\n      <td>Secondary / secondary special</td>\n      <td>Pensioner</td>\n    </tr>\n    <tr>\n      <th>307508</th>\n      <td>Unaccompanied</td>\n      <td>Cash loans</td>\n      <td>F</td>\n      <td>N</td>\n      <td>Y</td>\n      <td>THURSDAY</td>\n      <td>School</td>\n      <td>House / apartment</td>\n      <td>Separated</td>\n      <td>Higher education</td>\n      <td>Working</td>\n    </tr>\n    <tr>\n      <th>307509</th>\n      <td>Unaccompanied</td>\n      <td>Cash loans</td>\n      <td>F</td>\n      <td>N</td>\n      <td>Y</td>\n      <td>WEDNESDAY</td>\n      <td>Business Entity Type 1</td>\n      <td>House / apartment</td>\n      <td>Married</td>\n      <td>Secondary / secondary special</td>\n      <td>Commercial associate</td>\n    </tr>\n    <tr>\n      <th>307510</th>\n      <td>Unaccompanied</td>\n      <td>Cash loans</td>\n      <td>F</td>\n      <td>N</td>\n      <td>N</td>\n      <td>THURSDAY</td>\n      <td>Business Entity Type 3</td>\n      <td>House / apartment</td>\n      <td>Married</td>\n      <td>Higher education</td>\n      <td>Commercial associate</td>\n    </tr>\n  </tbody>\n</table>\n<p>307511 rows × 11 columns</p>\n</div>"
     },
     "metadata": {},
     "execution_count": 241
    }
   ],
   "source": [
    "# data with object datatype\n",
    "objects = train.select_dtypes(include=[object])\n",
    "objects"
   ]
  },
  {
   "cell_type": "code",
   "execution_count": 242,
   "metadata": {},
   "outputs": [
    {
     "output_type": "execute_result",
     "data": {
      "text/plain": [
       "NAME_TYPE_SUITE               1292\n",
       "NAME_CONTRACT_TYPE               0\n",
       "CODE_GENDER                      0\n",
       "FLAG_OWN_CAR                     0\n",
       "FLAG_OWN_REALTY                  0\n",
       "WEEKDAY_APPR_PROCESS_START       0\n",
       "ORGANIZATION_TYPE                0\n",
       "NAME_HOUSING_TYPE                0\n",
       "NAME_FAMILY_STATUS               0\n",
       "NAME_EDUCATION_TYPE              0\n",
       "NAME_INCOME_TYPE                 0\n",
       "dtype: int64"
      ]
     },
     "metadata": {},
     "execution_count": 242
    }
   ],
   "source": [
    "objects.isna().sum()\n"
   ]
  },
  {
   "cell_type": "code",
   "execution_count": 243,
   "metadata": {},
   "outputs": [
    {
     "output_type": "execute_result",
     "data": {
      "text/plain": [
       "Unaccompanied      248526\n",
       "Family              40149\n",
       "Spouse, partner     11370\n",
       "Children             3267\n",
       "Other_B              1770\n",
       "Other_A               866\n",
       "Group of people       271\n",
       "Name: NAME_TYPE_SUITE, dtype: int64"
      ]
     },
     "metadata": {},
     "execution_count": 243
    }
   ],
   "source": [
    "train['NAME_TYPE_SUITE'].value_counts()"
   ]
  },
  {
   "cell_type": "code",
   "execution_count": 244,
   "metadata": {},
   "outputs": [
    {
     "output_type": "execute_result",
     "data": {
      "text/plain": [
       "1292"
      ]
     },
     "metadata": {},
     "execution_count": 244
    }
   ],
   "source": [
    "train['NAME_TYPE_SUITE'].isna().sum()"
   ]
  },
  {
   "cell_type": "code",
   "execution_count": 245,
   "metadata": {},
   "outputs": [
    {
     "output_type": "execute_result",
     "data": {
      "text/plain": [
       "911"
      ]
     },
     "metadata": {},
     "execution_count": 245
    }
   ],
   "source": [
    "test['NAME_TYPE_SUITE'].isna().sum()"
   ]
  },
  {
   "cell_type": "code",
   "execution_count": 246,
   "metadata": {},
   "outputs": [
    {
     "output_type": "execute_result",
     "data": {
      "text/plain": [
       "NAME_TYPE_SUITE               0\n",
       "NAME_CONTRACT_TYPE            0\n",
       "CODE_GENDER                   0\n",
       "FLAG_OWN_CAR                  0\n",
       "FLAG_OWN_REALTY               0\n",
       "WEEKDAY_APPR_PROCESS_START    0\n",
       "ORGANIZATION_TYPE             0\n",
       "NAME_HOUSING_TYPE             0\n",
       "NAME_FAMILY_STATUS            0\n",
       "NAME_EDUCATION_TYPE           0\n",
       "NAME_INCOME_TYPE              0\n",
       "dtype: int64"
      ]
     },
     "metadata": {},
     "execution_count": 246
    }
   ],
   "source": [
    "train['NAME_TYPE_SUITE'] = train['NAME_TYPE_SUITE'].fillna('Unaccompanied')\n",
    "test['NAME_TYPE_SUITE'] = test['NAME_TYPE_SUITE'].fillna('Unaccompanied')\n",
    "\n",
    "objects = train.select_dtypes(include=[object])\n",
    "objects.isna().sum()"
   ]
  },
  {
   "cell_type": "code",
   "execution_count": 247,
   "metadata": {},
   "outputs": [
    {
     "output_type": "execute_result",
     "data": {
      "text/plain": [
       "Index(['NAME_TYPE_SUITE', 'NAME_CONTRACT_TYPE', 'CODE_GENDER', 'FLAG_OWN_CAR',\n",
       "       'FLAG_OWN_REALTY', 'WEEKDAY_APPR_PROCESS_START', 'ORGANIZATION_TYPE',\n",
       "       'NAME_HOUSING_TYPE', 'NAME_FAMILY_STATUS', 'NAME_EDUCATION_TYPE',\n",
       "       'NAME_INCOME_TYPE'],\n",
       "      dtype='object')"
      ]
     },
     "metadata": {},
     "execution_count": 247
    }
   ],
   "source": [
    "from sklearn.preprocessing import LabelEncoder\n",
    "le = LabelEncoder()\n",
    "\n",
    "objects = train.dtypes[train.dtypes == \"object\"].index\n",
    "objects"
   ]
  },
  {
   "cell_type": "code",
   "execution_count": 248,
   "metadata": {},
   "outputs": [
    {
     "output_type": "stream",
     "name": "stdout",
     "text": [
      "<class 'pandas.core.frame.DataFrame'>\nRangeIndex: 307511 entries, 0 to 307510\nData columns (total 65 columns):\n #   Column                       Non-Null Count   Dtype  \n---  ------                       --------------   -----  \n 0   NAME_TYPE_SUITE              307511 non-null  int64  \n 1   OBS_30_CNT_SOCIAL_CIRCLE     306490 non-null  float64\n 2   DEF_30_CNT_SOCIAL_CIRCLE     306490 non-null  float64\n 3   OBS_60_CNT_SOCIAL_CIRCLE     306490 non-null  float64\n 4   DEF_60_CNT_SOCIAL_CIRCLE     306490 non-null  float64\n 5   EXT_SOURCE_2                 306851 non-null  float64\n 6   AMT_GOODS_PRICE              307233 non-null  float64\n 7   AMT_ANNUITY                  307499 non-null  float64\n 8   CNT_FAM_MEMBERS              307509 non-null  float64\n 9   DAYS_LAST_PHONE_CHANGE       307510 non-null  float64\n 10  CNT_CHILDREN                 307511 non-null  int64  \n 11  FLAG_DOCUMENT_8              307511 non-null  int64  \n 12  NAME_CONTRACT_TYPE           307511 non-null  int64  \n 13  CODE_GENDER                  307511 non-null  int64  \n 14  FLAG_OWN_CAR                 307511 non-null  int64  \n 15  FLAG_DOCUMENT_2              307511 non-null  int64  \n 16  FLAG_DOCUMENT_3              307511 non-null  int64  \n 17  FLAG_DOCUMENT_4              307511 non-null  int64  \n 18  FLAG_DOCUMENT_5              307511 non-null  int64  \n 19  FLAG_DOCUMENT_6              307511 non-null  int64  \n 20  FLAG_DOCUMENT_7              307511 non-null  int64  \n 21  FLAG_DOCUMENT_9              307511 non-null  int64  \n 22  FLAG_DOCUMENT_21             307511 non-null  int64  \n 23  FLAG_DOCUMENT_10             307511 non-null  int64  \n 24  FLAG_DOCUMENT_11             307511 non-null  int64  \n 25  FLAG_OWN_REALTY              307511 non-null  int64  \n 26  FLAG_DOCUMENT_13             307511 non-null  int64  \n 27  FLAG_DOCUMENT_14             307511 non-null  int64  \n 28  FLAG_DOCUMENT_15             307511 non-null  int64  \n 29  FLAG_DOCUMENT_16             307511 non-null  int64  \n 30  FLAG_DOCUMENT_17             307511 non-null  int64  \n 31  FLAG_DOCUMENT_18             307511 non-null  int64  \n 32  FLAG_DOCUMENT_19             307511 non-null  int64  \n 33  FLAG_DOCUMENT_20             307511 non-null  int64  \n 34  FLAG_DOCUMENT_12             307511 non-null  int64  \n 35  AMT_CREDIT                   307511 non-null  float64\n 36  AMT_INCOME_TOTAL             307511 non-null  float64\n 37  FLAG_PHONE                   307511 non-null  int64  \n 38  LIVE_CITY_NOT_WORK_CITY      307511 non-null  int64  \n 39  REG_CITY_NOT_WORK_CITY       307511 non-null  int64  \n 40  TARGET                       307511 non-null  int64  \n 41  REG_CITY_NOT_LIVE_CITY       307511 non-null  int64  \n 42  LIVE_REGION_NOT_WORK_REGION  307511 non-null  int64  \n 43  REG_REGION_NOT_WORK_REGION   307511 non-null  int64  \n 44  REG_REGION_NOT_LIVE_REGION   307511 non-null  int64  \n 45  HOUR_APPR_PROCESS_START      307511 non-null  int64  \n 46  WEEKDAY_APPR_PROCESS_START   307511 non-null  int64  \n 47  REGION_RATING_CLIENT_W_CITY  307511 non-null  int64  \n 48  REGION_RATING_CLIENT         307511 non-null  int64  \n 49  FLAG_EMAIL                   307511 non-null  int64  \n 50  FLAG_CONT_MOBILE             307511 non-null  int64  \n 51  ORGANIZATION_TYPE            307511 non-null  int64  \n 52  FLAG_WORK_PHONE              307511 non-null  int64  \n 53  FLAG_EMP_PHONE               307511 non-null  int64  \n 54  FLAG_MOBIL                   307511 non-null  int64  \n 55  DAYS_ID_PUBLISH              307511 non-null  int64  \n 56  DAYS_REGISTRATION            307511 non-null  float64\n 57  DAYS_EMPLOYED                307511 non-null  int64  \n 58  DAYS_BIRTH                   307511 non-null  int64  \n 59  REGION_POPULATION_RELATIVE   307511 non-null  float64\n 60  NAME_HOUSING_TYPE            307511 non-null  int64  \n 61  NAME_FAMILY_STATUS           307511 non-null  int64  \n 62  NAME_EDUCATION_TYPE          307511 non-null  int64  \n 63  NAME_INCOME_TYPE             307511 non-null  int64  \n 64  SK_ID_CURR                   307511 non-null  int64  \ndtypes: float64(13), int64(52)\nmemory usage: 152.5 MB\n"
     ]
    }
   ],
   "source": [
    "for i in objects:\n",
    "    train[i]= le.fit_transform(train[i])\n",
    "    test[i]= le.fit_transform(test[i])\n",
    "train.info()"
   ]
  },
  {
   "cell_type": "code",
   "execution_count": 249,
   "metadata": {},
   "outputs": [
    {
     "output_type": "stream",
     "name": "stdout",
     "text": [
      "<class 'pandas.core.frame.DataFrame'>\nRangeIndex: 48744 entries, 0 to 48743\nData columns (total 64 columns):\n #   Column                       Non-Null Count  Dtype  \n---  ------                       --------------  -----  \n 0   NAME_TYPE_SUITE              48744 non-null  int64  \n 1   DEF_30_CNT_SOCIAL_CIRCLE     48715 non-null  float64\n 2   OBS_30_CNT_SOCIAL_CIRCLE     48715 non-null  float64\n 3   OBS_60_CNT_SOCIAL_CIRCLE     48715 non-null  float64\n 4   DEF_60_CNT_SOCIAL_CIRCLE     48715 non-null  float64\n 5   AMT_ANNUITY                  48720 non-null  float64\n 6   EXT_SOURCE_2                 48736 non-null  float64\n 7   FLAG_DOCUMENT_21             48744 non-null  int64  \n 8   FLAG_DOCUMENT_20             48744 non-null  int64  \n 9   CODE_GENDER                  48744 non-null  int64  \n 10  FLAG_OWN_CAR                 48744 non-null  int64  \n 11  FLAG_OWN_REALTY              48744 non-null  int64  \n 12  CNT_CHILDREN                 48744 non-null  int64  \n 13  DAYS_LAST_PHONE_CHANGE       48744 non-null  float64\n 14  FLAG_DOCUMENT_2              48744 non-null  int64  \n 15  FLAG_DOCUMENT_3              48744 non-null  int64  \n 16  FLAG_DOCUMENT_4              48744 non-null  int64  \n 17  FLAG_DOCUMENT_5              48744 non-null  int64  \n 18  FLAG_DOCUMENT_6              48744 non-null  int64  \n 19  FLAG_DOCUMENT_7              48744 non-null  int64  \n 20  FLAG_DOCUMENT_8              48744 non-null  int64  \n 21  FLAG_DOCUMENT_9              48744 non-null  int64  \n 22  FLAG_DOCUMENT_10             48744 non-null  int64  \n 23  FLAG_DOCUMENT_11             48744 non-null  int64  \n 24  AMT_INCOME_TOTAL             48744 non-null  float64\n 25  FLAG_DOCUMENT_13             48744 non-null  int64  \n 26  FLAG_DOCUMENT_14             48744 non-null  int64  \n 27  FLAG_DOCUMENT_15             48744 non-null  int64  \n 28  FLAG_DOCUMENT_16             48744 non-null  int64  \n 29  FLAG_DOCUMENT_17             48744 non-null  int64  \n 30  FLAG_DOCUMENT_18             48744 non-null  int64  \n 31  FLAG_DOCUMENT_19             48744 non-null  int64  \n 32  FLAG_DOCUMENT_12             48744 non-null  int64  \n 33  AMT_CREDIT                   48744 non-null  float64\n 34  ORGANIZATION_TYPE            48744 non-null  int64  \n 35  AMT_GOODS_PRICE              48744 non-null  float64\n 36  LIVE_CITY_NOT_WORK_CITY      48744 non-null  int64  \n 37  NAME_CONTRACT_TYPE           48744 non-null  int64  \n 38  REG_CITY_NOT_WORK_CITY       48744 non-null  int64  \n 39  REG_CITY_NOT_LIVE_CITY       48744 non-null  int64  \n 40  LIVE_REGION_NOT_WORK_REGION  48744 non-null  int64  \n 41  REG_REGION_NOT_WORK_REGION   48744 non-null  int64  \n 42  REG_REGION_NOT_LIVE_REGION   48744 non-null  int64  \n 43  HOUR_APPR_PROCESS_START      48744 non-null  int64  \n 44  WEEKDAY_APPR_PROCESS_START   48744 non-null  int64  \n 45  REGION_RATING_CLIENT_W_CITY  48744 non-null  int64  \n 46  REGION_RATING_CLIENT         48744 non-null  int64  \n 47  CNT_FAM_MEMBERS              48744 non-null  float64\n 48  FLAG_EMAIL                   48744 non-null  int64  \n 49  FLAG_PHONE                   48744 non-null  int64  \n 50  FLAG_CONT_MOBILE             48744 non-null  int64  \n 51  FLAG_WORK_PHONE              48744 non-null  int64  \n 52  FLAG_EMP_PHONE               48744 non-null  int64  \n 53  FLAG_MOBIL                   48744 non-null  int64  \n 54  DAYS_ID_PUBLISH              48744 non-null  int64  \n 55  DAYS_REGISTRATION            48744 non-null  float64\n 56  DAYS_EMPLOYED                48744 non-null  int64  \n 57  DAYS_BIRTH                   48744 non-null  int64  \n 58  REGION_POPULATION_RELATIVE   48744 non-null  float64\n 59  NAME_HOUSING_TYPE            48744 non-null  int64  \n 60  NAME_FAMILY_STATUS           48744 non-null  int64  \n 61  NAME_EDUCATION_TYPE          48744 non-null  int64  \n 62  NAME_INCOME_TYPE             48744 non-null  int64  \n 63  SK_ID_CURR                   48744 non-null  int64  \ndtypes: float64(13), int64(51)\nmemory usage: 23.8 MB\n"
     ]
    }
   ],
   "source": [
    "test.info()"
   ]
  },
  {
   "source": [
    "#### Data cleaning\n"
   ],
   "cell_type": "markdown",
   "metadata": {}
  },
  {
   "cell_type": "code",
   "execution_count": 250,
   "metadata": {},
   "outputs": [
    {
     "output_type": "execute_result",
     "data": {
      "text/plain": [
       "9"
      ]
     },
     "metadata": {},
     "execution_count": 250
    }
   ],
   "source": [
    "train.isnull().any(axis=0).sum()"
   ]
  },
  {
   "cell_type": "code",
   "execution_count": 251,
   "metadata": {},
   "outputs": [
    {
     "output_type": "execute_result",
     "data": {
      "text/plain": [
       "1966"
      ]
     },
     "metadata": {},
     "execution_count": 251
    }
   ],
   "source": [
    "#number of rows with missing values\n",
    "train.isnull().any(axis=1).sum()"
   ]
  },
  {
   "cell_type": "code",
   "execution_count": 252,
   "metadata": {},
   "outputs": [
    {
     "output_type": "execute_result",
     "data": {
      "text/plain": [
       "Index(['NAME_TYPE_SUITE', 'OBS_30_CNT_SOCIAL_CIRCLE',\n",
       "       'DEF_30_CNT_SOCIAL_CIRCLE', 'OBS_60_CNT_SOCIAL_CIRCLE',\n",
       "       'DEF_60_CNT_SOCIAL_CIRCLE', 'EXT_SOURCE_2', 'AMT_GOODS_PRICE',\n",
       "       'AMT_ANNUITY', 'CNT_FAM_MEMBERS', 'DAYS_LAST_PHONE_CHANGE',\n",
       "       'CNT_CHILDREN', 'FLAG_DOCUMENT_8', 'NAME_CONTRACT_TYPE', 'CODE_GENDER',\n",
       "       'FLAG_OWN_CAR', 'FLAG_DOCUMENT_2', 'FLAG_DOCUMENT_3', 'FLAG_DOCUMENT_4',\n",
       "       'FLAG_DOCUMENT_5', 'FLAG_DOCUMENT_6', 'FLAG_DOCUMENT_7',\n",
       "       'FLAG_DOCUMENT_9', 'FLAG_DOCUMENT_21', 'FLAG_DOCUMENT_10',\n",
       "       'FLAG_DOCUMENT_11', 'FLAG_OWN_REALTY', 'FLAG_DOCUMENT_13',\n",
       "       'FLAG_DOCUMENT_14', 'FLAG_DOCUMENT_15', 'FLAG_DOCUMENT_16',\n",
       "       'FLAG_DOCUMENT_17', 'FLAG_DOCUMENT_18', 'FLAG_DOCUMENT_19',\n",
       "       'FLAG_DOCUMENT_20', 'FLAG_DOCUMENT_12', 'AMT_CREDIT',\n",
       "       'AMT_INCOME_TOTAL', 'FLAG_PHONE', 'LIVE_CITY_NOT_WORK_CITY',\n",
       "       'REG_CITY_NOT_WORK_CITY', 'REG_CITY_NOT_LIVE_CITY',\n",
       "       'LIVE_REGION_NOT_WORK_REGION', 'REG_REGION_NOT_WORK_REGION',\n",
       "       'REG_REGION_NOT_LIVE_REGION', 'HOUR_APPR_PROCESS_START',\n",
       "       'WEEKDAY_APPR_PROCESS_START', 'REGION_RATING_CLIENT_W_CITY',\n",
       "       'REGION_RATING_CLIENT', 'FLAG_EMAIL', 'FLAG_CONT_MOBILE',\n",
       "       'ORGANIZATION_TYPE', 'FLAG_WORK_PHONE', 'FLAG_EMP_PHONE', 'FLAG_MOBIL',\n",
       "       'DAYS_ID_PUBLISH', 'DAYS_REGISTRATION', 'DAYS_EMPLOYED', 'DAYS_BIRTH',\n",
       "       'REGION_POPULATION_RELATIVE', 'NAME_HOUSING_TYPE', 'NAME_FAMILY_STATUS',\n",
       "       'NAME_EDUCATION_TYPE', 'NAME_INCOME_TYPE', 'SK_ID_CURR'],\n",
       "      dtype='object')"
      ]
     },
     "metadata": {},
     "execution_count": 252
    }
   ],
   "source": [
    "variables = train.columns\n",
    "columns = variables.drop('TARGET')\n",
    "columns"
   ]
  },
  {
   "cell_type": "code",
   "execution_count": 253,
   "metadata": {},
   "outputs": [
    {
     "output_type": "execute_result",
     "data": {
      "text/plain": [
       "0"
      ]
     },
     "metadata": {},
     "execution_count": 253
    }
   ],
   "source": [
    "# replacing missing values (nan) by the mean in each column\n",
    "for c in columns:\n",
    "    train[c] = train[c].fillna((train[c].mean()))\n",
    "    test[c] = test[c].fillna((test[c].mean()))\n",
    "\n",
    "#number of columns with missing values\n",
    "train.isnull().any(axis=0).sum()\n"
   ]
  },
  {
   "cell_type": "code",
   "execution_count": 254,
   "metadata": {},
   "outputs": [
    {
     "output_type": "execute_result",
     "data": {
      "text/plain": [
       "0"
      ]
     },
     "metadata": {},
     "execution_count": 254
    }
   ],
   "source": [
    "#number of rows with missing values\n",
    "train.isnull().any(axis=1).sum()"
   ]
  },
  {
   "cell_type": "code",
   "execution_count": 255,
   "metadata": {},
   "outputs": [
    {
     "output_type": "execute_result",
     "data": {
      "text/plain": [
       "   NAME_TYPE_SUITE  OBS_30_CNT_SOCIAL_CIRCLE  DEF_30_CNT_SOCIAL_CIRCLE  \\\n",
       "0                6                       2.0                       2.0   \n",
       "1                1                       1.0                       0.0   \n",
       "2                6                       0.0                       0.0   \n",
       "3                6                       2.0                       0.0   \n",
       "4                6                       0.0                       0.0   \n",
       "\n",
       "   OBS_60_CNT_SOCIAL_CIRCLE  DEF_60_CNT_SOCIAL_CIRCLE  EXT_SOURCE_2  \\\n",
       "0                       2.0                       2.0      0.262949   \n",
       "1                       1.0                       0.0      0.622246   \n",
       "2                       0.0                       0.0      0.555912   \n",
       "3                       2.0                       0.0      0.650442   \n",
       "4                       0.0                       0.0      0.322738   \n",
       "\n",
       "   AMT_GOODS_PRICE  AMT_ANNUITY  CNT_FAM_MEMBERS  DAYS_LAST_PHONE_CHANGE  ...  \\\n",
       "0         351000.0      24700.5              1.0                 -1134.0  ...   \n",
       "1        1129500.0      35698.5              2.0                  -828.0  ...   \n",
       "2         135000.0       6750.0              1.0                  -815.0  ...   \n",
       "3         297000.0      29686.5              2.0                  -617.0  ...   \n",
       "4         513000.0      21865.5              1.0                 -1106.0  ...   \n",
       "\n",
       "   DAYS_ID_PUBLISH  DAYS_REGISTRATION  DAYS_EMPLOYED  DAYS_BIRTH  \\\n",
       "0            -2120            -3648.0           -637       -9461   \n",
       "1             -291            -1186.0          -1188      -16765   \n",
       "2            -2531            -4260.0           -225      -19046   \n",
       "3            -2437            -9833.0          -3039      -19005   \n",
       "4            -3458            -4311.0          -3038      -19932   \n",
       "\n",
       "   REGION_POPULATION_RELATIVE  NAME_HOUSING_TYPE  NAME_FAMILY_STATUS  \\\n",
       "0                    0.018801                  1                   3   \n",
       "1                    0.003541                  1                   1   \n",
       "2                    0.010032                  1                   3   \n",
       "3                    0.008019                  1                   0   \n",
       "4                    0.028663                  1                   3   \n",
       "\n",
       "   NAME_EDUCATION_TYPE  NAME_INCOME_TYPE  SK_ID_CURR  \n",
       "0                    4                 7      100002  \n",
       "1                    1                 4      100003  \n",
       "2                    4                 7      100004  \n",
       "3                    4                 7      100006  \n",
       "4                    4                 7      100007  \n",
       "\n",
       "[5 rows x 65 columns]"
      ],
      "text/html": "<div>\n<style scoped>\n    .dataframe tbody tr th:only-of-type {\n        vertical-align: middle;\n    }\n\n    .dataframe tbody tr th {\n        vertical-align: top;\n    }\n\n    .dataframe thead th {\n        text-align: right;\n    }\n</style>\n<table border=\"1\" class=\"dataframe\">\n  <thead>\n    <tr style=\"text-align: right;\">\n      <th></th>\n      <th>NAME_TYPE_SUITE</th>\n      <th>OBS_30_CNT_SOCIAL_CIRCLE</th>\n      <th>DEF_30_CNT_SOCIAL_CIRCLE</th>\n      <th>OBS_60_CNT_SOCIAL_CIRCLE</th>\n      <th>DEF_60_CNT_SOCIAL_CIRCLE</th>\n      <th>EXT_SOURCE_2</th>\n      <th>AMT_GOODS_PRICE</th>\n      <th>AMT_ANNUITY</th>\n      <th>CNT_FAM_MEMBERS</th>\n      <th>DAYS_LAST_PHONE_CHANGE</th>\n      <th>...</th>\n      <th>DAYS_ID_PUBLISH</th>\n      <th>DAYS_REGISTRATION</th>\n      <th>DAYS_EMPLOYED</th>\n      <th>DAYS_BIRTH</th>\n      <th>REGION_POPULATION_RELATIVE</th>\n      <th>NAME_HOUSING_TYPE</th>\n      <th>NAME_FAMILY_STATUS</th>\n      <th>NAME_EDUCATION_TYPE</th>\n      <th>NAME_INCOME_TYPE</th>\n      <th>SK_ID_CURR</th>\n    </tr>\n  </thead>\n  <tbody>\n    <tr>\n      <th>0</th>\n      <td>6</td>\n      <td>2.0</td>\n      <td>2.0</td>\n      <td>2.0</td>\n      <td>2.0</td>\n      <td>0.262949</td>\n      <td>351000.0</td>\n      <td>24700.5</td>\n      <td>1.0</td>\n      <td>-1134.0</td>\n      <td>...</td>\n      <td>-2120</td>\n      <td>-3648.0</td>\n      <td>-637</td>\n      <td>-9461</td>\n      <td>0.018801</td>\n      <td>1</td>\n      <td>3</td>\n      <td>4</td>\n      <td>7</td>\n      <td>100002</td>\n    </tr>\n    <tr>\n      <th>1</th>\n      <td>1</td>\n      <td>1.0</td>\n      <td>0.0</td>\n      <td>1.0</td>\n      <td>0.0</td>\n      <td>0.622246</td>\n      <td>1129500.0</td>\n      <td>35698.5</td>\n      <td>2.0</td>\n      <td>-828.0</td>\n      <td>...</td>\n      <td>-291</td>\n      <td>-1186.0</td>\n      <td>-1188</td>\n      <td>-16765</td>\n      <td>0.003541</td>\n      <td>1</td>\n      <td>1</td>\n      <td>1</td>\n      <td>4</td>\n      <td>100003</td>\n    </tr>\n    <tr>\n      <th>2</th>\n      <td>6</td>\n      <td>0.0</td>\n      <td>0.0</td>\n      <td>0.0</td>\n      <td>0.0</td>\n      <td>0.555912</td>\n      <td>135000.0</td>\n      <td>6750.0</td>\n      <td>1.0</td>\n      <td>-815.0</td>\n      <td>...</td>\n      <td>-2531</td>\n      <td>-4260.0</td>\n      <td>-225</td>\n      <td>-19046</td>\n      <td>0.010032</td>\n      <td>1</td>\n      <td>3</td>\n      <td>4</td>\n      <td>7</td>\n      <td>100004</td>\n    </tr>\n    <tr>\n      <th>3</th>\n      <td>6</td>\n      <td>2.0</td>\n      <td>0.0</td>\n      <td>2.0</td>\n      <td>0.0</td>\n      <td>0.650442</td>\n      <td>297000.0</td>\n      <td>29686.5</td>\n      <td>2.0</td>\n      <td>-617.0</td>\n      <td>...</td>\n      <td>-2437</td>\n      <td>-9833.0</td>\n      <td>-3039</td>\n      <td>-19005</td>\n      <td>0.008019</td>\n      <td>1</td>\n      <td>0</td>\n      <td>4</td>\n      <td>7</td>\n      <td>100006</td>\n    </tr>\n    <tr>\n      <th>4</th>\n      <td>6</td>\n      <td>0.0</td>\n      <td>0.0</td>\n      <td>0.0</td>\n      <td>0.0</td>\n      <td>0.322738</td>\n      <td>513000.0</td>\n      <td>21865.5</td>\n      <td>1.0</td>\n      <td>-1106.0</td>\n      <td>...</td>\n      <td>-3458</td>\n      <td>-4311.0</td>\n      <td>-3038</td>\n      <td>-19932</td>\n      <td>0.028663</td>\n      <td>1</td>\n      <td>3</td>\n      <td>4</td>\n      <td>7</td>\n      <td>100007</td>\n    </tr>\n  </tbody>\n</table>\n<p>5 rows × 65 columns</p>\n</div>"
     },
     "metadata": {},
     "execution_count": 255
    }
   ],
   "source": [
    "train.head()"
   ]
  },
  {
   "source": [
    "#### leaning"
   ],
   "cell_type": "markdown",
   "metadata": {}
  },
  {
   "cell_type": "code",
   "execution_count": 256,
   "metadata": {},
   "outputs": [
    {
     "output_type": "execute_result",
     "data": {
      "text/plain": [
       "((307511, 64), (307511, 1))"
      ]
     },
     "metadata": {},
     "execution_count": 256
    }
   ],
   "source": [
    "x = train.drop(['TARGET'],axis=1)\n",
    "y = train[['TARGET']]\n",
    "x.shape,y.shape\n"
   ]
  },
  {
   "cell_type": "code",
   "execution_count": 257,
   "metadata": {},
   "outputs": [
    {
     "output_type": "execute_result",
     "data": {
      "text/plain": [
       "   NAME_TYPE_SUITE  OBS_30_CNT_SOCIAL_CIRCLE  DEF_30_CNT_SOCIAL_CIRCLE  \\\n",
       "0                6                       2.0                       2.0   \n",
       "1                1                       1.0                       0.0   \n",
       "2                6                       0.0                       0.0   \n",
       "3                6                       2.0                       0.0   \n",
       "4                6                       0.0                       0.0   \n",
       "\n",
       "   OBS_60_CNT_SOCIAL_CIRCLE  DEF_60_CNT_SOCIAL_CIRCLE  EXT_SOURCE_2  \\\n",
       "0                       2.0                       2.0      0.262949   \n",
       "1                       1.0                       0.0      0.622246   \n",
       "2                       0.0                       0.0      0.555912   \n",
       "3                       2.0                       0.0      0.650442   \n",
       "4                       0.0                       0.0      0.322738   \n",
       "\n",
       "   AMT_GOODS_PRICE  AMT_ANNUITY  CNT_FAM_MEMBERS  DAYS_LAST_PHONE_CHANGE  ...  \\\n",
       "0         351000.0      24700.5              1.0                 -1134.0  ...   \n",
       "1        1129500.0      35698.5              2.0                  -828.0  ...   \n",
       "2         135000.0       6750.0              1.0                  -815.0  ...   \n",
       "3         297000.0      29686.5              2.0                  -617.0  ...   \n",
       "4         513000.0      21865.5              1.0                 -1106.0  ...   \n",
       "\n",
       "   DAYS_ID_PUBLISH  DAYS_REGISTRATION  DAYS_EMPLOYED  DAYS_BIRTH  \\\n",
       "0            -2120            -3648.0           -637       -9461   \n",
       "1             -291            -1186.0          -1188      -16765   \n",
       "2            -2531            -4260.0           -225      -19046   \n",
       "3            -2437            -9833.0          -3039      -19005   \n",
       "4            -3458            -4311.0          -3038      -19932   \n",
       "\n",
       "   REGION_POPULATION_RELATIVE  NAME_HOUSING_TYPE  NAME_FAMILY_STATUS  \\\n",
       "0                    0.018801                  1                   3   \n",
       "1                    0.003541                  1                   1   \n",
       "2                    0.010032                  1                   3   \n",
       "3                    0.008019                  1                   0   \n",
       "4                    0.028663                  1                   3   \n",
       "\n",
       "   NAME_EDUCATION_TYPE  NAME_INCOME_TYPE  SK_ID_CURR  \n",
       "0                    4                 7      100002  \n",
       "1                    1                 4      100003  \n",
       "2                    4                 7      100004  \n",
       "3                    4                 7      100006  \n",
       "4                    4                 7      100007  \n",
       "\n",
       "[5 rows x 64 columns]"
      ],
      "text/html": "<div>\n<style scoped>\n    .dataframe tbody tr th:only-of-type {\n        vertical-align: middle;\n    }\n\n    .dataframe tbody tr th {\n        vertical-align: top;\n    }\n\n    .dataframe thead th {\n        text-align: right;\n    }\n</style>\n<table border=\"1\" class=\"dataframe\">\n  <thead>\n    <tr style=\"text-align: right;\">\n      <th></th>\n      <th>NAME_TYPE_SUITE</th>\n      <th>OBS_30_CNT_SOCIAL_CIRCLE</th>\n      <th>DEF_30_CNT_SOCIAL_CIRCLE</th>\n      <th>OBS_60_CNT_SOCIAL_CIRCLE</th>\n      <th>DEF_60_CNT_SOCIAL_CIRCLE</th>\n      <th>EXT_SOURCE_2</th>\n      <th>AMT_GOODS_PRICE</th>\n      <th>AMT_ANNUITY</th>\n      <th>CNT_FAM_MEMBERS</th>\n      <th>DAYS_LAST_PHONE_CHANGE</th>\n      <th>...</th>\n      <th>DAYS_ID_PUBLISH</th>\n      <th>DAYS_REGISTRATION</th>\n      <th>DAYS_EMPLOYED</th>\n      <th>DAYS_BIRTH</th>\n      <th>REGION_POPULATION_RELATIVE</th>\n      <th>NAME_HOUSING_TYPE</th>\n      <th>NAME_FAMILY_STATUS</th>\n      <th>NAME_EDUCATION_TYPE</th>\n      <th>NAME_INCOME_TYPE</th>\n      <th>SK_ID_CURR</th>\n    </tr>\n  </thead>\n  <tbody>\n    <tr>\n      <th>0</th>\n      <td>6</td>\n      <td>2.0</td>\n      <td>2.0</td>\n      <td>2.0</td>\n      <td>2.0</td>\n      <td>0.262949</td>\n      <td>351000.0</td>\n      <td>24700.5</td>\n      <td>1.0</td>\n      <td>-1134.0</td>\n      <td>...</td>\n      <td>-2120</td>\n      <td>-3648.0</td>\n      <td>-637</td>\n      <td>-9461</td>\n      <td>0.018801</td>\n      <td>1</td>\n      <td>3</td>\n      <td>4</td>\n      <td>7</td>\n      <td>100002</td>\n    </tr>\n    <tr>\n      <th>1</th>\n      <td>1</td>\n      <td>1.0</td>\n      <td>0.0</td>\n      <td>1.0</td>\n      <td>0.0</td>\n      <td>0.622246</td>\n      <td>1129500.0</td>\n      <td>35698.5</td>\n      <td>2.0</td>\n      <td>-828.0</td>\n      <td>...</td>\n      <td>-291</td>\n      <td>-1186.0</td>\n      <td>-1188</td>\n      <td>-16765</td>\n      <td>0.003541</td>\n      <td>1</td>\n      <td>1</td>\n      <td>1</td>\n      <td>4</td>\n      <td>100003</td>\n    </tr>\n    <tr>\n      <th>2</th>\n      <td>6</td>\n      <td>0.0</td>\n      <td>0.0</td>\n      <td>0.0</td>\n      <td>0.0</td>\n      <td>0.555912</td>\n      <td>135000.0</td>\n      <td>6750.0</td>\n      <td>1.0</td>\n      <td>-815.0</td>\n      <td>...</td>\n      <td>-2531</td>\n      <td>-4260.0</td>\n      <td>-225</td>\n      <td>-19046</td>\n      <td>0.010032</td>\n      <td>1</td>\n      <td>3</td>\n      <td>4</td>\n      <td>7</td>\n      <td>100004</td>\n    </tr>\n    <tr>\n      <th>3</th>\n      <td>6</td>\n      <td>2.0</td>\n      <td>0.0</td>\n      <td>2.0</td>\n      <td>0.0</td>\n      <td>0.650442</td>\n      <td>297000.0</td>\n      <td>29686.5</td>\n      <td>2.0</td>\n      <td>-617.0</td>\n      <td>...</td>\n      <td>-2437</td>\n      <td>-9833.0</td>\n      <td>-3039</td>\n      <td>-19005</td>\n      <td>0.008019</td>\n      <td>1</td>\n      <td>0</td>\n      <td>4</td>\n      <td>7</td>\n      <td>100006</td>\n    </tr>\n    <tr>\n      <th>4</th>\n      <td>6</td>\n      <td>0.0</td>\n      <td>0.0</td>\n      <td>0.0</td>\n      <td>0.0</td>\n      <td>0.322738</td>\n      <td>513000.0</td>\n      <td>21865.5</td>\n      <td>1.0</td>\n      <td>-1106.0</td>\n      <td>...</td>\n      <td>-3458</td>\n      <td>-4311.0</td>\n      <td>-3038</td>\n      <td>-19932</td>\n      <td>0.028663</td>\n      <td>1</td>\n      <td>3</td>\n      <td>4</td>\n      <td>7</td>\n      <td>100007</td>\n    </tr>\n  </tbody>\n</table>\n<p>5 rows × 64 columns</p>\n</div>"
     },
     "metadata": {},
     "execution_count": 257
    }
   ],
   "source": [
    "x.head()"
   ]
  },
  {
   "source": [
    "#### Splitting and Standardizing data"
   ],
   "cell_type": "markdown",
   "metadata": {}
  },
  {
   "cell_type": "code",
   "execution_count": 258,
   "metadata": {},
   "outputs": [],
   "source": [
    "from sklearn.model_selection import train_test_split\n",
    "from sklearn.preprocessing import StandardScaler\n",
    "from sklearn.metrics import roc_auc_score\n",
    "X_train, X_test,y_train,y_test = train_test_split(x,y,test_size=0.25)\n",
    "\n",
    "scaler = StandardScaler()\n",
    "scaler.fit(X_train)\n",
    "X_train = scaler.transform(X_train)\n",
    "X_test = scaler.transform(X_test)\n",
    "\n"
   ]
  },
  {
   "source": [
    "#### learning  and estimation"
   ],
   "cell_type": "markdown",
   "metadata": {}
  },
  {
   "cell_type": "code",
   "execution_count": 259,
   "metadata": {},
   "outputs": [],
   "source": [
    "from sklearn import tree\n",
    "dt = tree.DecisionTreeClassifier()\n",
    "dt.fit(X_train,y_train)\n",
    "y_predis_dt = dt.predict(X_test)"
   ]
  },
  {
   "cell_type": "code",
   "execution_count": 260,
   "metadata": {},
   "outputs": [],
   "source": [
    "from sklearn.linear_model import LogisticRegression\n",
    "log = LogisticRegression()\n",
    "log.fit(X_train, y_train)\n",
    "y_predis_log= log.predict(X_test)\n"
   ]
  },
  {
   "cell_type": "code",
   "execution_count": 261,
   "metadata": {},
   "outputs": [],
   "source": [
    "from sklearn.ensemble import RandomForestClassifier\n",
    "rf = RandomForestClassifier()\n",
    "rf.fit(X_train,y_train)\n",
    "y_predis_rf = rf.predict(X_test)"
   ]
  },
  {
   "source": [
    "#### Evaluation"
   ],
   "cell_type": "markdown",
   "metadata": {}
  },
  {
   "cell_type": "code",
   "execution_count": 262,
   "metadata": {},
   "outputs": [
    {
     "output_type": "execute_result",
     "data": {
      "text/plain": [
       "0.5243487790209113"
      ]
     },
     "metadata": {},
     "execution_count": 262
    }
   ],
   "source": [
    "roc_auc_score(y_test, y_predis_dt)"
   ]
  },
  {
   "cell_type": "code",
   "execution_count": 263,
   "metadata": {},
   "outputs": [
    {
     "output_type": "execute_result",
     "data": {
      "text/plain": [
       "0.5004601661013556"
      ]
     },
     "metadata": {},
     "execution_count": 263
    }
   ],
   "source": [
    "roc_auc_score(y_test, y_predis_log)"
   ]
  },
  {
   "cell_type": "code",
   "execution_count": 264,
   "metadata": {},
   "outputs": [
    {
     "output_type": "execute_result",
     "data": {
      "text/plain": [
       "0.5003114897585905"
      ]
     },
     "metadata": {},
     "execution_count": 264
    }
   ],
   "source": [
    "roc_auc_score(y_test, y_predis_rf)"
   ]
  },
  {
   "source": [
    "#### [Problem 3] Estimate for test data"
   ],
   "cell_type": "markdown",
   "metadata": {}
  },
  {
   "cell_type": "code",
   "execution_count": 265,
   "metadata": {},
   "outputs": [
    {
     "output_type": "stream",
     "name": "stdout",
     "text": [
      "Training data shape:  (307511, 65)\ntesting data shape:  (48744, 64)\n"
     ]
    }
   ],
   "source": [
    "print('Training data shape: ' ,train.shape)\n",
    "print('testing data shape: ' ,test.shape)"
   ]
  },
  {
   "source": [
    "#### Predicting with Decision Tree"
   ],
   "cell_type": "markdown",
   "metadata": {}
  },
  {
   "cell_type": "code",
   "execution_count": 266,
   "metadata": {},
   "outputs": [
    {
     "output_type": "execute_result",
     "data": {
      "text/plain": [
       "   NAME_TYPE_SUITE  DEF_30_CNT_SOCIAL_CIRCLE  OBS_30_CNT_SOCIAL_CIRCLE  \\\n",
       "0                6                       0.0                       0.0   \n",
       "1                6                       0.0                       0.0   \n",
       "2                6                       0.0                       0.0   \n",
       "3                6                       0.0                       0.0   \n",
       "4                6                       0.0                       0.0   \n",
       "\n",
       "   OBS_60_CNT_SOCIAL_CIRCLE  DEF_60_CNT_SOCIAL_CIRCLE  AMT_ANNUITY  \\\n",
       "0                       0.0                       0.0      20560.5   \n",
       "1                       0.0                       0.0      17370.0   \n",
       "2                       0.0                       0.0      69777.0   \n",
       "3                       0.0                       0.0      49018.5   \n",
       "4                       0.0                       0.0      32067.0   \n",
       "\n",
       "   EXT_SOURCE_2  FLAG_DOCUMENT_21  FLAG_DOCUMENT_20  CODE_GENDER  ...  \\\n",
       "0      0.789654                 0                 0            0  ...   \n",
       "1      0.291656                 0                 0            1  ...   \n",
       "2      0.699787                 0                 0            1  ...   \n",
       "3      0.509677                 0                 0            0  ...   \n",
       "4      0.425687                 0                 0            1  ...   \n",
       "\n",
       "   DAYS_REGISTRATION  DAYS_EMPLOYED  DAYS_BIRTH  REGION_POPULATION_RELATIVE  \\\n",
       "0            -5170.0          -2329      -19241                    0.018850   \n",
       "1            -9118.0          -4469      -18064                    0.035792   \n",
       "2            -2175.0          -4458      -20038                    0.019101   \n",
       "3            -2000.0          -1866      -13976                    0.026392   \n",
       "4            -4000.0          -2191      -13040                    0.010032   \n",
       "\n",
       "   NAME_HOUSING_TYPE  NAME_FAMILY_STATUS  NAME_EDUCATION_TYPE  \\\n",
       "0                  1                   1                    1   \n",
       "1                  1                   1                    4   \n",
       "2                  1                   1                    1   \n",
       "3                  1                   1                    4   \n",
       "4                  1                   1                    4   \n",
       "\n",
       "   NAME_INCOME_TYPE  SK_ID_CURR  TARGET  \n",
       "0                 6      100001       1  \n",
       "1                 6      100005       1  \n",
       "2                 6      100013       1  \n",
       "3                 6      100028       1  \n",
       "4                 6      100038       1  \n",
       "\n",
       "[5 rows x 65 columns]"
      ],
      "text/html": "<div>\n<style scoped>\n    .dataframe tbody tr th:only-of-type {\n        vertical-align: middle;\n    }\n\n    .dataframe tbody tr th {\n        vertical-align: top;\n    }\n\n    .dataframe thead th {\n        text-align: right;\n    }\n</style>\n<table border=\"1\" class=\"dataframe\">\n  <thead>\n    <tr style=\"text-align: right;\">\n      <th></th>\n      <th>NAME_TYPE_SUITE</th>\n      <th>DEF_30_CNT_SOCIAL_CIRCLE</th>\n      <th>OBS_30_CNT_SOCIAL_CIRCLE</th>\n      <th>OBS_60_CNT_SOCIAL_CIRCLE</th>\n      <th>DEF_60_CNT_SOCIAL_CIRCLE</th>\n      <th>AMT_ANNUITY</th>\n      <th>EXT_SOURCE_2</th>\n      <th>FLAG_DOCUMENT_21</th>\n      <th>FLAG_DOCUMENT_20</th>\n      <th>CODE_GENDER</th>\n      <th>...</th>\n      <th>DAYS_REGISTRATION</th>\n      <th>DAYS_EMPLOYED</th>\n      <th>DAYS_BIRTH</th>\n      <th>REGION_POPULATION_RELATIVE</th>\n      <th>NAME_HOUSING_TYPE</th>\n      <th>NAME_FAMILY_STATUS</th>\n      <th>NAME_EDUCATION_TYPE</th>\n      <th>NAME_INCOME_TYPE</th>\n      <th>SK_ID_CURR</th>\n      <th>TARGET</th>\n    </tr>\n  </thead>\n  <tbody>\n    <tr>\n      <th>0</th>\n      <td>6</td>\n      <td>0.0</td>\n      <td>0.0</td>\n      <td>0.0</td>\n      <td>0.0</td>\n      <td>20560.5</td>\n      <td>0.789654</td>\n      <td>0</td>\n      <td>0</td>\n      <td>0</td>\n      <td>...</td>\n      <td>-5170.0</td>\n      <td>-2329</td>\n      <td>-19241</td>\n      <td>0.018850</td>\n      <td>1</td>\n      <td>1</td>\n      <td>1</td>\n      <td>6</td>\n      <td>100001</td>\n      <td>1</td>\n    </tr>\n    <tr>\n      <th>1</th>\n      <td>6</td>\n      <td>0.0</td>\n      <td>0.0</td>\n      <td>0.0</td>\n      <td>0.0</td>\n      <td>17370.0</td>\n      <td>0.291656</td>\n      <td>0</td>\n      <td>0</td>\n      <td>1</td>\n      <td>...</td>\n      <td>-9118.0</td>\n      <td>-4469</td>\n      <td>-18064</td>\n      <td>0.035792</td>\n      <td>1</td>\n      <td>1</td>\n      <td>4</td>\n      <td>6</td>\n      <td>100005</td>\n      <td>1</td>\n    </tr>\n    <tr>\n      <th>2</th>\n      <td>6</td>\n      <td>0.0</td>\n      <td>0.0</td>\n      <td>0.0</td>\n      <td>0.0</td>\n      <td>69777.0</td>\n      <td>0.699787</td>\n      <td>0</td>\n      <td>0</td>\n      <td>1</td>\n      <td>...</td>\n      <td>-2175.0</td>\n      <td>-4458</td>\n      <td>-20038</td>\n      <td>0.019101</td>\n      <td>1</td>\n      <td>1</td>\n      <td>1</td>\n      <td>6</td>\n      <td>100013</td>\n      <td>1</td>\n    </tr>\n    <tr>\n      <th>3</th>\n      <td>6</td>\n      <td>0.0</td>\n      <td>0.0</td>\n      <td>0.0</td>\n      <td>0.0</td>\n      <td>49018.5</td>\n      <td>0.509677</td>\n      <td>0</td>\n      <td>0</td>\n      <td>0</td>\n      <td>...</td>\n      <td>-2000.0</td>\n      <td>-1866</td>\n      <td>-13976</td>\n      <td>0.026392</td>\n      <td>1</td>\n      <td>1</td>\n      <td>4</td>\n      <td>6</td>\n      <td>100028</td>\n      <td>1</td>\n    </tr>\n    <tr>\n      <th>4</th>\n      <td>6</td>\n      <td>0.0</td>\n      <td>0.0</td>\n      <td>0.0</td>\n      <td>0.0</td>\n      <td>32067.0</td>\n      <td>0.425687</td>\n      <td>0</td>\n      <td>0</td>\n      <td>1</td>\n      <td>...</td>\n      <td>-4000.0</td>\n      <td>-2191</td>\n      <td>-13040</td>\n      <td>0.010032</td>\n      <td>1</td>\n      <td>1</td>\n      <td>4</td>\n      <td>6</td>\n      <td>100038</td>\n      <td>1</td>\n    </tr>\n  </tbody>\n</table>\n<p>5 rows × 65 columns</p>\n</div>"
     },
     "metadata": {},
     "execution_count": 266
    }
   ],
   "source": [
    "y_predis_dt2 = dt.predict(test)\n",
    "test['TARGET'] = y_predis_dt2\n",
    "test.head()"
   ]
  },
  {
   "cell_type": "code",
   "execution_count": 267,
   "metadata": {},
   "outputs": [
    {
     "output_type": "execute_result",
     "data": {
      "text/plain": [
       "       SK_ID_CURR  TARGET\n",
       "0          100001       1\n",
       "1          100005       1\n",
       "2          100013       1\n",
       "3          100028       1\n",
       "4          100038       1\n",
       "...           ...     ...\n",
       "48739      456221       1\n",
       "48740      456222       1\n",
       "48741      456223       1\n",
       "48742      456224       1\n",
       "48743      456250       1\n",
       "\n",
       "[48744 rows x 2 columns]"
      ],
      "text/html": "<div>\n<style scoped>\n    .dataframe tbody tr th:only-of-type {\n        vertical-align: middle;\n    }\n\n    .dataframe tbody tr th {\n        vertical-align: top;\n    }\n\n    .dataframe thead th {\n        text-align: right;\n    }\n</style>\n<table border=\"1\" class=\"dataframe\">\n  <thead>\n    <tr style=\"text-align: right;\">\n      <th></th>\n      <th>SK_ID_CURR</th>\n      <th>TARGET</th>\n    </tr>\n  </thead>\n  <tbody>\n    <tr>\n      <th>0</th>\n      <td>100001</td>\n      <td>1</td>\n    </tr>\n    <tr>\n      <th>1</th>\n      <td>100005</td>\n      <td>1</td>\n    </tr>\n    <tr>\n      <th>2</th>\n      <td>100013</td>\n      <td>1</td>\n    </tr>\n    <tr>\n      <th>3</th>\n      <td>100028</td>\n      <td>1</td>\n    </tr>\n    <tr>\n      <th>4</th>\n      <td>100038</td>\n      <td>1</td>\n    </tr>\n    <tr>\n      <th>...</th>\n      <td>...</td>\n      <td>...</td>\n    </tr>\n    <tr>\n      <th>48739</th>\n      <td>456221</td>\n      <td>1</td>\n    </tr>\n    <tr>\n      <th>48740</th>\n      <td>456222</td>\n      <td>1</td>\n    </tr>\n    <tr>\n      <th>48741</th>\n      <td>456223</td>\n      <td>1</td>\n    </tr>\n    <tr>\n      <th>48742</th>\n      <td>456224</td>\n      <td>1</td>\n    </tr>\n    <tr>\n      <th>48743</th>\n      <td>456250</td>\n      <td>1</td>\n    </tr>\n  </tbody>\n</table>\n<p>48744 rows × 2 columns</p>\n</div>"
     },
     "metadata": {},
     "execution_count": 267
    }
   ],
   "source": [
    "submission_1 = test.loc[:,('SK_ID_CURR','TARGET')]\n",
    "submission_1"
   ]
  },
  {
   "cell_type": "code",
   "execution_count": 268,
   "metadata": {},
   "outputs": [],
   "source": [
    "submission_1.to_csv(\"/home/jules/projects/dic/mldocs/submission_1_jls.csv\", index=False)"
   ]
  },
  {
   "source": [
    "<img src=\"submit.png\"/>"
   ],
   "cell_type": "markdown",
   "metadata": {}
  },
  {
   "source": [
    "### [Problem 4] Feature engineering"
   ],
   "cell_type": "markdown",
   "metadata": {}
  },
  {
   "source": [
    "#### Checking feature importances"
   ],
   "cell_type": "markdown",
   "metadata": {}
  },
  {
   "cell_type": "code",
   "execution_count": 269,
   "metadata": {},
   "outputs": [
    {
     "output_type": "execute_result",
     "data": {
      "text/plain": [
       "                             Feature\n",
       "EXT_SOURCE_2                0.096756\n",
       "DAYS_REGISTRATION           0.073836\n",
       "DAYS_BIRTH                  0.070251\n",
       "SK_ID_CURR                  0.069045\n",
       "DAYS_ID_PUBLISH             0.067866\n",
       "DAYS_EMPLOYED               0.061079\n",
       "AMT_ANNUITY                 0.059678\n",
       "DAYS_LAST_PHONE_CHANGE      0.056030\n",
       "REGION_POPULATION_RELATIVE  0.046836\n",
       "AMT_CREDIT                  0.042386"
      ],
      "text/html": "<div>\n<style scoped>\n    .dataframe tbody tr th:only-of-type {\n        vertical-align: middle;\n    }\n\n    .dataframe tbody tr th {\n        vertical-align: top;\n    }\n\n    .dataframe thead th {\n        text-align: right;\n    }\n</style>\n<table border=\"1\" class=\"dataframe\">\n  <thead>\n    <tr style=\"text-align: right;\">\n      <th></th>\n      <th>Feature</th>\n    </tr>\n  </thead>\n  <tbody>\n    <tr>\n      <th>EXT_SOURCE_2</th>\n      <td>0.096756</td>\n    </tr>\n    <tr>\n      <th>DAYS_REGISTRATION</th>\n      <td>0.073836</td>\n    </tr>\n    <tr>\n      <th>DAYS_BIRTH</th>\n      <td>0.070251</td>\n    </tr>\n    <tr>\n      <th>SK_ID_CURR</th>\n      <td>0.069045</td>\n    </tr>\n    <tr>\n      <th>DAYS_ID_PUBLISH</th>\n      <td>0.067866</td>\n    </tr>\n    <tr>\n      <th>DAYS_EMPLOYED</th>\n      <td>0.061079</td>\n    </tr>\n    <tr>\n      <th>AMT_ANNUITY</th>\n      <td>0.059678</td>\n    </tr>\n    <tr>\n      <th>DAYS_LAST_PHONE_CHANGE</th>\n      <td>0.056030</td>\n    </tr>\n    <tr>\n      <th>REGION_POPULATION_RELATIVE</th>\n      <td>0.046836</td>\n    </tr>\n    <tr>\n      <th>AMT_CREDIT</th>\n      <td>0.042386</td>\n    </tr>\n  </tbody>\n</table>\n</div>"
     },
     "metadata": {},
     "execution_count": 269
    }
   ],
   "source": [
    "imp_features = pd.DataFrame({'Feature': dt.feature_importances_}, index= x.columns).sort_values(by='Feature', ascending=False)\n",
    "imp_features.head(10)"
   ]
  },
  {
   "cell_type": "code",
   "execution_count": 270,
   "metadata": {},
   "outputs": [
    {
     "output_type": "execute_result",
     "data": {
      "text/plain": [
       "Index(['EXT_SOURCE_2', 'DAYS_REGISTRATION', 'DAYS_BIRTH', 'SK_ID_CURR',\n",
       "       'DAYS_ID_PUBLISH', 'DAYS_EMPLOYED', 'AMT_ANNUITY',\n",
       "       'DAYS_LAST_PHONE_CHANGE', 'REGION_POPULATION_RELATIVE', 'AMT_CREDIT'],\n",
       "      dtype='object')"
      ]
     },
     "metadata": {},
     "execution_count": 270
    }
   ],
   "source": [
    "important = imp_features.head(10).index\n",
    "important"
   ]
  },
  {
   "cell_type": "code",
   "execution_count": 271,
   "metadata": {},
   "outputs": [],
   "source": [
    "x1 = train[important]\n",
    "x2 = train[important[0:1]]\n",
    "x3 = train[important[0:4]]\n",
    "x4 = train[important[0:6]]\n",
    "x5 = train[important[0:8]]\n",
    "x6 = train[important[2:3]]\n",
    "x7 = train[important[3:4]]\n",
    "x8 = train[important[4:5]]\n",
    "x9 = train[important[5:6]]\n",
    "\n",
    "\n",
    "# Define a fuction to determine the inde value for each feature that was used used\n",
    "def feature(x, feature):\n",
    "    X_train,X_test,y_train,y_test = train_test_split(x,y, test_size=0.2)\n",
    "\n",
    "    scaler = StandardScaler()\n",
    "    scaler.fit(X_train)\n",
    "    X_train = scaler.transform(X_train)\n",
    "    X_test = scaler.transform(X_test)\n",
    "\n",
    "    dt = tree.DecisionTreeClassifier()\n",
    "    dt.fit(X_train,y_train)\n",
    "    y_preds = dt.predict(X_test)\n",
    "\n",
    "    roc_auc_score(y_test, y_preds)\n",
    "    print(f'ROC score for {feature} is:{roc_auc_score(y_test,y_preds)}')"
   ]
  },
  {
   "cell_type": "code",
   "execution_count": 272,
   "metadata": {},
   "outputs": [
    {
     "output_type": "stream",
     "name": "stdout",
     "text": [
      "ROC score for the top 10 features is:0.5237943525439941\n"
     ]
    }
   ],
   "source": [
    "feature(x1,'the top 10 features')"
   ]
  },
  {
   "cell_type": "code",
   "execution_count": 273,
   "metadata": {},
   "outputs": [
    {
     "output_type": "stream",
     "name": "stdout",
     "text": [
      "ROC score for EXT_SOURCE_2 is:0.5142904825029592\n"
     ]
    }
   ],
   "source": [
    "feature(x2,'EXT_SOURCE_2')"
   ]
  },
  {
   "cell_type": "code",
   "execution_count": 274,
   "metadata": {},
   "outputs": [
    {
     "output_type": "stream",
     "name": "stdout",
     "text": [
      "ROC score for the top 4 features is:0.5137588022796336\n"
     ]
    }
   ],
   "source": [
    "feature(x3,'the top 4 features')"
   ]
  },
  {
   "cell_type": "code",
   "execution_count": 275,
   "metadata": {},
   "outputs": [
    {
     "output_type": "stream",
     "name": "stdout",
     "text": [
      "ROC score for the top 6 features is:0.5255919584720418\n"
     ]
    }
   ],
   "source": [
    "feature(x4,'the top 6 features')"
   ]
  },
  {
   "cell_type": "code",
   "execution_count": 276,
   "metadata": {},
   "outputs": [
    {
     "output_type": "stream",
     "name": "stdout",
     "text": [
      "ROC score for the top 8 features is:0.5202734808697558\n"
     ]
    }
   ],
   "source": [
    "feature(x5,'the top 8 features')"
   ]
  },
  {
   "cell_type": "code",
   "execution_count": 277,
   "metadata": {},
   "outputs": [
    {
     "output_type": "stream",
     "name": "stdout",
     "text": [
      "ROC score for DAYS_REGISTRATION is:0.49994526130201977\n"
     ]
    }
   ],
   "source": [
    "feature(x6,'DAYS_REGISTRATION')"
   ]
  },
  {
   "cell_type": "code",
   "execution_count": 278,
   "metadata": {},
   "outputs": [
    {
     "output_type": "stream",
     "name": "stdout",
     "text": [
      "ROC score for DAYS_ID_PUBLISH is:0.49620873262304566\n"
     ]
    }
   ],
   "source": [
    "feature(x7,'DAYS_ID_PUBLISH')"
   ]
  },
  {
   "cell_type": "code",
   "execution_count": 279,
   "metadata": {},
   "outputs": [
    {
     "output_type": "stream",
     "name": "stdout",
     "text": [
      "ROC score for DAYS_BIRTH is:0.5001511235024666\n"
     ]
    }
   ],
   "source": [
    "feature(x8,'DAYS_BIRTH')"
   ]
  },
  {
   "cell_type": "code",
   "execution_count": 280,
   "metadata": {},
   "outputs": [
    {
     "output_type": "stream",
     "name": "stdout",
     "text": [
      "ROC score for DAYS_EMPLOYED is:0.49971704044111737\n"
     ]
    }
   ],
   "source": [
    "feature(x6,'DAYS_EMPLOYED')"
   ]
  },
  {
   "cell_type": "code",
   "execution_count": 281,
   "metadata": {},
   "outputs": [],
   "source": [
    "#making an estimate for the test data of the most accura feature\n",
    "x1_train,x1_test,y_train, y_test = train_test_split(x1,y,test_size=0.25)\n",
    "\n",
    "scaler = StandardScaler()\n",
    "scaler.fit(x1_train)\n",
    "x1_train = scaler.transform(x1_train)\n",
    "x1_test = scaler.transform(x1_test)\n",
    "\n",
    "dt = tree.DecisionTreeClassifier()\n",
    "dt.fit(x1_train,y_train)\n",
    "\n",
    "test1 = test[important]\n",
    "\n",
    "y_preds = dt.predict(test1)\n",
    "\n",
    "test['TARGET'] = y_preds\n",
    "\n",
    "submission_2 = test.loc[:,('SK_ID_CURR','TARGET')]\n",
    "submission_2.to_csv(\"/home/jules/projects/dic/mldocs/submission_2_jls.csv\", index=False)\n"
   ]
  },
  {
   "source": [
    "<img src=\"submit2.png\"/>"
   ],
   "cell_type": "markdown",
   "metadata": {}
  }
 ]
}