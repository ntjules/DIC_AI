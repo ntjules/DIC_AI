{
 "metadata": {
  "language_info": {
   "codemirror_mode": {
    "name": "ipython",
    "version": 3
   },
   "file_extension": ".py",
   "mimetype": "text/x-python",
   "name": "python",
   "nbconvert_exporter": "python",
   "pygments_lexer": "ipython3",
   "version": 3
  },
  "orig_nbformat": 2
 },
 "nbformat": 4,
 "nbformat_minor": 2,
 "cells": [
  {
   "source": [
    "### Introductory Machine Learning Class assignment and Learning Credit Information"
   ],
   "cell_type": "markdown",
   "metadata": {}
  },
  {
   "source": [
    "#### [Problem 1] Confirmation of competition contents"
   ],
   "cell_type": "markdown",
   "metadata": {}
  },
  {
   "source": [
    "#### [Problem 2] Learning and verification"
   ],
   "cell_type": "markdown",
   "metadata": {}
  },
  {
   "source": [
    "#### [Problem 3] Estimate for test data"
   ],
   "cell_type": "markdown",
   "metadata": {}
  },
  {
   "source": [
    "#### [Problem 4] Feature engineering"
   ],
   "cell_type": "markdown",
   "metadata": {}
  }
 ]
}