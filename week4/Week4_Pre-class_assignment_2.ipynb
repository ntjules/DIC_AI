{
 "metadata": {
  "language_info": {
   "codemirror_mode": {
    "name": "ipython",
    "version": 3
   },
   "file_extension": ".py",
   "mimetype": "text/x-python",
   "name": "python",
   "nbconvert_exporter": "python",
   "pygments_lexer": "ipython3",
   "version": 3
  },
  "orig_nbformat": 2
 },
 "nbformat": 4,
 "nbformat_minor": 2,
 "cells": [
  {
   "source": [
    "### Introductory Machine Learning Pre-Class assignment 2 Predicting House Prices\n"
   ],
   "cell_type": "markdown",
   "metadata": {}
  },
  {
   "source": [
    "#### [Problem 1] Selection of features for practice"
   ],
   "cell_type": "markdown",
   "metadata": {}
  },
  {
   "source": [
    "#### [Problem 2] Estimate and evaluation by linear regression"
   ],
   "cell_type": "markdown",
   "metadata": {}
  },
  {
   "source": [
    "#### [Problem 3] Comparison of methods"
   ],
   "cell_type": "markdown",
   "metadata": {}
  },
  {
   "source": [
    "#### [Problem 4] (Advance task) Learning using other features"
   ],
   "cell_type": "markdown",
   "metadata": {}
  }
 ]
}